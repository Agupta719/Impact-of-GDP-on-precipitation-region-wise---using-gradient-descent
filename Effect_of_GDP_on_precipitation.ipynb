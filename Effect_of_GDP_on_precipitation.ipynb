{
 "cells": [
  {
   "cell_type": "markdown",
   "metadata": {},
   "source": [
    "Import Libraries"
   ]
  },
  {
   "cell_type": "code",
   "execution_count": 173,
   "metadata": {},
   "outputs": [],
   "source": [
    "# import necessary libraries\n",
    "import pandas as pd\n",
    "import matplotlib.pyplot as plt\n",
    "import random\n",
    "import statsmodels.api as sm\n",
    "from math import sqrt\n",
    "import numpy as np\n",
    "from tabulate import tabulate"
   ]
  },
  {
   "cell_type": "markdown",
   "metadata": {},
   "source": [
    "Functions"
   ]
  },
  {
   "cell_type": "code",
   "execution_count": 110,
   "metadata": {},
   "outputs": [],
   "source": [
    "## functions\n",
    "\n",
    "# split the dataset into 2: training dataset and testing dataset according to the given percentage for training\n",
    "def split_data(dataset, traning_percentage: int):\n",
    "    traning_dataset_length = int((len(dataset) * traning_percentage) / 100)\n",
    "    training_dataset = random.sample(dataset, traning_dataset_length)\n",
    "    testing_dataset = [x for x in dataset if x not in training_dataset]\n",
    "\n",
    "    return training_dataset, testing_dataset\n",
    "\n",
    "# create two lists of x and y coordinates from a dataset with a list of (x,y) tuples\n",
    "def create_xyLists(xyDataset):\n",
    "    xList = []\n",
    "    yList = []\n",
    "    \n",
    "    for (x,y) in xyDataset:\n",
    "        xList.append(x)\n",
    "        yList.append(y)\n",
    "\n",
    "    return(xList, yList)\n",
    "\n",
    "### linear regression functions\n",
    "## using RSS in OLS\n",
    "\n",
    "# ############################################################################ #\n",
    "#         Σ(xi - x_mean)(yi - y_mean)                                          #\n",
    "# beta1 = ---------------------------                                          #\n",
    "#             Σ(xi - x_mean)^2                                                 #\n",
    "# ############################################################################ #\n",
    "\n",
    "# to find beta 1 \n",
    "def find_beta1(dataset_x, dataset_y):\n",
    "\n",
    "    x_mean = find_mean(dataset_x)\n",
    "    y_mean = find_mean(dataset_y)  \n",
    "    num = 0   \n",
    "    den = 0\n",
    "    \n",
    "    for (x,y) in zip(dataset_x, dataset_y):\n",
    "        num += (x - x_mean) * (y - y_mean)\n",
    "        den += (x - x_mean)**2\n",
    "\n",
    "    return num/den\n",
    "\n",
    "# ############################################################################ #\n",
    "# beta0 = = y_mean - (Beta1 * x_mean)                                          #\n",
    "# ############################################################################ #\n",
    "\n",
    "# to find beta 0\n",
    "def find_beta0(dataset_x, dataset_y):\n",
    "\n",
    "    x_mean = find_mean(dataset_x)\n",
    "    y_mean = find_mean(dataset_y)   \n",
    "\n",
    "    return y_mean - (find_beta1(dataset_x, dataset_y) * x_mean)\n",
    "\n",
    "# to find mean of a one-dimensional array/list\n",
    "def find_mean(dataset_1d):\n",
    "\n",
    "    sum = 0\n",
    "\n",
    "    for point in dataset_1d:\n",
    "        sum += point\n",
    "\n",
    "    return sum/len(dataset_1d)\n",
    "\n",
    "## using gradient descent\n",
    "\n",
    "# ############################################################################ #\n",
    "# MSE = (1/n) * Σ(yi - ŷi)^2                                                   #\n",
    "# ############################################################################ #\n",
    "\n",
    "# ############################################################################ #\n",
    "# d(MSE)/d(beta0) = -2/n * Σ[yi - beta0 - (beta1 * xi)]                        #\n",
    "# ############################################################################ #\n",
    "\n",
    "# ############################################################################ #\n",
    "# d(MSE)/d(beta1) = -2/n * Σ[{yi - beta0 - (beta1 * xi)} * {xi}]               #\n",
    "# ############################################################################ #\n",
    "\n",
    "# to calculate the mean squared error\n",
    "def CalMSE(beta0: float, beta1: float, dataset_x, dataset_y):\n",
    "    sum = 0\n",
    "\n",
    "    for (x,y) in zip(dataset_x, dataset_y):\n",
    "        sum += (y - beta0 - (beta1 * x)) ** 2\n",
    "\n",
    "    return (1/len(dataset_x)) * sum\n",
    "\n",
    "# to find the partial derivative of beta 0\n",
    "def findDerivativeOfBeta0(dataset_x, dataset_y, beta0, beta1):\n",
    "    sum = 0\n",
    "\n",
    "    for (x,y) in zip(dataset_x, dataset_y):\n",
    "        sum += y - beta0 - (beta1 * x)\n",
    "\n",
    "    return (-2/len(dataset_x)) * sum\n",
    "\n",
    "# to find the partial derivative of beta 1\n",
    "def findDerivativeOfBeta1(dataset_x, dataset_y, beta0, beta1):\n",
    "    sum = 0\n",
    "\n",
    "    for (x,y) in zip(dataset_x, dataset_y):\n",
    "        sum += (y - beta0 - (beta1 * x)) * x\n",
    "\n",
    "    return (-2/len(dataset_x)) * sum\n",
    "\n",
    "# to find the new value of beta 0\n",
    "def findNewBeta0(dataset_x, dataset_y, beta0: float = 0, beta1: float = 1, alphaOfBeta0: float = 0.001):\n",
    "    return beta0 - (findDerivativeOfBeta0(dataset_x, dataset_y, beta0, beta1) * alphaOfBeta0)\n",
    "\n",
    "# to find the new value of beta 1\n",
    "def findNewBeta1(dataset_x, dataset_y, beta0: float = 0, beta1: float = 1, alphaOfBeta1: float = 0.001):\n",
    "    return beta1 - (findDerivativeOfBeta1(dataset_x, dataset_y, beta0, beta1) * alphaOfBeta1)\n",
    "\n",
    "# to find a list of y_hat values, using gradient descent, for every value of x\n",
    "def findYcoordinatesFromGradientDescent(dataset_x, dataset_y, beta0, beta1, alphaOfBeta0: float, alphaOfBeta1: float, maxIter: int = 300):\n",
    "    \n",
    "    y_hat_list_GD = []\n",
    "\n",
    "    counter = 0\n",
    "    beta0 = 0\n",
    "    beta1 = 1\n",
    "    threshold = 1\n",
    "\n",
    "    error = CalMSE(beta0, beta1, dataset_x, dataset_y)\n",
    "\n",
    "    while error > threshold:\n",
    "       beta0 = findNewBeta0(dataset_x, dataset_y, beta0, beta1, alphaOfBeta0)\n",
    "       beta1 = findNewBeta1(dataset_x, dataset_y, beta0, beta1, alphaOfBeta1)\n",
    "       error = CalMSE(beta0, beta1, dataset_x, dataset_y)\n",
    "       counter += 1\n",
    "\n",
    "       if (error < threshold or counter > maxIter):\n",
    "            break\n",
    "       \n",
    "    for x in dataset_x:\n",
    "        y_hat_list_GD.append(beta0 + (beta1 * x))\n",
    "    \n",
    "    constant = beta0\n",
    "    slope = beta1\n",
    "    print(\"In Gradient Descent:-\")\n",
    "    print(\"1. The mean squared error is: \" + str(error))\n",
    "    print(\"2. The final value of beta 0 is: \" + str(beta0))\n",
    "    print(\"3. The final value of beta 1 is: \" + str(beta1))\n",
    "\n",
    "    return y_hat_list_GD, constant, slope\n",
    "\n",
    "# calculate the t-value for every region\n",
    "def calT_value(y_hat: list, y: list, x: list, beta1):\n",
    "    # Calculate residuals\n",
    "    residuals = np.array(y_hat) - np.array(y)\n",
    "\n",
    "    # Calculate sum of squared residuals\n",
    "    sum_squared_residuals = np.sum(residuals**2)\n",
    "\n",
    "    # Calculate mean of x\n",
    "    mean_x = np.mean(x)\n",
    "\n",
    "    # Calculate sum of squared x\n",
    "    sum_squared_x = np.sum((np.array(x) - mean_x)**2)\n",
    "\n",
    "    # Calculate standard error of beta1\n",
    "    n = len(x)\n",
    "    SE_beta1 = np.sqrt(sum_squared_residuals / ((n - 2) * sum_squared_x))\n",
    "\n",
    "    # Calculate t-value\n",
    "    t_value = beta1 / SE_beta1\n",
    "    return t_value"
   ]
  },
  {
   "cell_type": "markdown",
   "metadata": {},
   "source": [
    "Import files"
   ]
  },
  {
   "cell_type": "code",
   "execution_count": 111,
   "metadata": {},
   "outputs": [
    {
     "data": {
      "text/html": [
       "<div>\n",
       "<style scoped>\n",
       "    .dataframe tbody tr th:only-of-type {\n",
       "        vertical-align: middle;\n",
       "    }\n",
       "\n",
       "    .dataframe tbody tr th {\n",
       "        vertical-align: top;\n",
       "    }\n",
       "\n",
       "    .dataframe thead th {\n",
       "        text-align: right;\n",
       "    }\n",
       "</style>\n",
       "<table border=\"1\" class=\"dataframe\">\n",
       "  <thead>\n",
       "    <tr style=\"text-align: right;\">\n",
       "      <th></th>\n",
       "      <th>Entity</th>\n",
       "      <th>Code</th>\n",
       "      <th>Year</th>\n",
       "      <th>World Region according to the World Bank</th>\n",
       "    </tr>\n",
       "  </thead>\n",
       "  <tbody>\n",
       "    <tr>\n",
       "      <th>207</th>\n",
       "      <td>United States</td>\n",
       "      <td>USA</td>\n",
       "      <td>2017</td>\n",
       "      <td>North America</td>\n",
       "    </tr>\n",
       "    <tr>\n",
       "      <th>208</th>\n",
       "      <td>United States Virgin Islands</td>\n",
       "      <td>VIR</td>\n",
       "      <td>2017</td>\n",
       "      <td>Latin America and Caribbean</td>\n",
       "    </tr>\n",
       "    <tr>\n",
       "      <th>209</th>\n",
       "      <td>Uruguay</td>\n",
       "      <td>URY</td>\n",
       "      <td>2017</td>\n",
       "      <td>Latin America and Caribbean</td>\n",
       "    </tr>\n",
       "    <tr>\n",
       "      <th>210</th>\n",
       "      <td>Uzbekistan</td>\n",
       "      <td>UZB</td>\n",
       "      <td>2017</td>\n",
       "      <td>Europe and Central Asia</td>\n",
       "    </tr>\n",
       "    <tr>\n",
       "      <th>211</th>\n",
       "      <td>Vanuatu</td>\n",
       "      <td>VUT</td>\n",
       "      <td>2017</td>\n",
       "      <td>East Asia and Pacific</td>\n",
       "    </tr>\n",
       "    <tr>\n",
       "      <th>212</th>\n",
       "      <td>Venezuela</td>\n",
       "      <td>VEN</td>\n",
       "      <td>2017</td>\n",
       "      <td>Latin America and Caribbean</td>\n",
       "    </tr>\n",
       "    <tr>\n",
       "      <th>213</th>\n",
       "      <td>Vietnam</td>\n",
       "      <td>VNM</td>\n",
       "      <td>2017</td>\n",
       "      <td>East Asia and Pacific</td>\n",
       "    </tr>\n",
       "    <tr>\n",
       "      <th>214</th>\n",
       "      <td>Yemen</td>\n",
       "      <td>YEM</td>\n",
       "      <td>2017</td>\n",
       "      <td>Middle East and North Africa</td>\n",
       "    </tr>\n",
       "    <tr>\n",
       "      <th>215</th>\n",
       "      <td>Zambia</td>\n",
       "      <td>ZMB</td>\n",
       "      <td>2017</td>\n",
       "      <td>Sub-Saharan Africa</td>\n",
       "    </tr>\n",
       "    <tr>\n",
       "      <th>216</th>\n",
       "      <td>Zimbabwe</td>\n",
       "      <td>ZWE</td>\n",
       "      <td>2017</td>\n",
       "      <td>Sub-Saharan Africa</td>\n",
       "    </tr>\n",
       "  </tbody>\n",
       "</table>\n",
       "</div>"
      ],
      "text/plain": [
       "                           Entity Code  Year   \n",
       "207                 United States  USA  2017  \\\n",
       "208  United States Virgin Islands  VIR  2017   \n",
       "209                       Uruguay  URY  2017   \n",
       "210                    Uzbekistan  UZB  2017   \n",
       "211                       Vanuatu  VUT  2017   \n",
       "212                     Venezuela  VEN  2017   \n",
       "213                       Vietnam  VNM  2017   \n",
       "214                         Yemen  YEM  2017   \n",
       "215                        Zambia  ZMB  2017   \n",
       "216                      Zimbabwe  ZWE  2017   \n",
       "\n",
       "    World Region according to the World Bank  \n",
       "207                            North America  \n",
       "208              Latin America and Caribbean  \n",
       "209              Latin America and Caribbean  \n",
       "210                  Europe and Central Asia  \n",
       "211                    East Asia and Pacific  \n",
       "212              Latin America and Caribbean  \n",
       "213                    East Asia and Pacific  \n",
       "214             Middle East and North Africa  \n",
       "215                       Sub-Saharan Africa  \n",
       "216                       Sub-Saharan Africa  "
      ]
     },
     "execution_count": 111,
     "metadata": {},
     "output_type": "execute_result"
    }
   ],
   "source": [
    "# define file paths\n",
    "GDP_file_path = 'GDP_Country_Wise.xlsx'\n",
    "precipitation_file_path = 'Precipitation_Country_Wise.xlsx'\n",
    "region_wise_country_path = 'world-regions-according-to-the-world-bank.xlsx'\n",
    "\n",
    "# import 'GDP' and 'precipitaiton' excel files\n",
    "GDP_df = pd.read_excel(GDP_file_path)\n",
    "precipitation_df = pd.read_excel(precipitation_file_path)\n",
    "region_wise_country_df = pd.read_excel(region_wise_country_path)\n",
    "\n",
    "region_wise_country_df.tail(10)"
   ]
  },
  {
   "cell_type": "markdown",
   "metadata": {},
   "source": [
    "Clean files"
   ]
  },
  {
   "cell_type": "code",
   "execution_count": 112,
   "metadata": {},
   "outputs": [
    {
     "data": {
      "text/html": [
       "<div>\n",
       "<style scoped>\n",
       "    .dataframe tbody tr th:only-of-type {\n",
       "        vertical-align: middle;\n",
       "    }\n",
       "\n",
       "    .dataframe tbody tr th {\n",
       "        vertical-align: top;\n",
       "    }\n",
       "\n",
       "    .dataframe thead th {\n",
       "        text-align: right;\n",
       "    }\n",
       "</style>\n",
       "<table border=\"1\" class=\"dataframe\">\n",
       "  <thead>\n",
       "    <tr style=\"text-align: right;\">\n",
       "      <th></th>\n",
       "      <th>Country Name</th>\n",
       "      <th>Country Code</th>\n",
       "      <th>GDP</th>\n",
       "    </tr>\n",
       "  </thead>\n",
       "  <tbody>\n",
       "    <tr>\n",
       "      <th>0</th>\n",
       "      <td>Afghanistan</td>\n",
       "      <td>AFG</td>\n",
       "      <td>1968.34</td>\n",
       "    </tr>\n",
       "    <tr>\n",
       "      <th>1</th>\n",
       "      <td>Albania</td>\n",
       "      <td>ALB</td>\n",
       "      <td>13278.37</td>\n",
       "    </tr>\n",
       "    <tr>\n",
       "      <th>2</th>\n",
       "      <td>Algeria</td>\n",
       "      <td>DZA</td>\n",
       "      <td>10844.77</td>\n",
       "    </tr>\n",
       "    <tr>\n",
       "      <th>3</th>\n",
       "      <td>American Samoa</td>\n",
       "      <td>ASM</td>\n",
       "      <td>NaN</td>\n",
       "    </tr>\n",
       "    <tr>\n",
       "      <th>4</th>\n",
       "      <td>Andorra</td>\n",
       "      <td>AND</td>\n",
       "      <td>NaN</td>\n",
       "    </tr>\n",
       "  </tbody>\n",
       "</table>\n",
       "</div>"
      ],
      "text/plain": [
       "     Country Name Country Code       GDP\n",
       "0     Afghanistan          AFG   1968.34\n",
       "1         Albania          ALB  13278.37\n",
       "2         Algeria          DZA  10844.77\n",
       "3  American Samoa          ASM       NaN\n",
       "4         Andorra          AND       NaN"
      ]
     },
     "execution_count": 112,
     "metadata": {},
     "output_type": "execute_result"
    }
   ],
   "source": [
    "# clean 'GDP_df'\n",
    "# create a new column 'GDP' that would convert '2020 [YR2020]' to numeric data type and handle non-numeric values\n",
    "GDP_df['GDP'] = pd.to_numeric(GDP_df['2020 [YR2020]'], errors='coerce')\n",
    "\n",
    "# find rows with non-numeric values\n",
    "non_numeric_rows = GDP_df[GDP_df['GDP'].isna()]\n",
    "# print(non_numeric_rows)\n",
    "\n",
    "# round the 'GDP' column to 2 decimal places\n",
    "GDP_df['GDP'] = GDP_df['GDP'].round(2)\n",
    "\n",
    "# drop '2020 [YR2020]' column\n",
    "GDP_df.drop(columns=['2020 [YR2020]', 'Series Name', 'Series Code'], inplace=True)\n",
    "\n",
    "# drop rows below index 217 as they are redundant\n",
    "GDP_df.drop(GDP_df.index[217:], inplace=True)\n",
    "\n",
    "GDP_df.head(5)"
   ]
  },
  {
   "cell_type": "code",
   "execution_count": 113,
   "metadata": {},
   "outputs": [
    {
     "data": {
      "text/html": [
       "<div>\n",
       "<style scoped>\n",
       "    .dataframe tbody tr th:only-of-type {\n",
       "        vertical-align: middle;\n",
       "    }\n",
       "\n",
       "    .dataframe tbody tr th {\n",
       "        vertical-align: top;\n",
       "    }\n",
       "\n",
       "    .dataframe thead th {\n",
       "        text-align: right;\n",
       "    }\n",
       "</style>\n",
       "<table border=\"1\" class=\"dataframe\">\n",
       "  <thead>\n",
       "    <tr style=\"text-align: right;\">\n",
       "      <th></th>\n",
       "      <th>Country Name</th>\n",
       "      <th>Country Code</th>\n",
       "      <th>Precipitation</th>\n",
       "    </tr>\n",
       "  </thead>\n",
       "  <tbody>\n",
       "    <tr>\n",
       "      <th>0</th>\n",
       "      <td>Afghanistan</td>\n",
       "      <td>AFG</td>\n",
       "      <td>327.0</td>\n",
       "    </tr>\n",
       "    <tr>\n",
       "      <th>1</th>\n",
       "      <td>Albania</td>\n",
       "      <td>ALB</td>\n",
       "      <td>1485.0</td>\n",
       "    </tr>\n",
       "    <tr>\n",
       "      <th>2</th>\n",
       "      <td>Algeria</td>\n",
       "      <td>DZA</td>\n",
       "      <td>89.0</td>\n",
       "    </tr>\n",
       "    <tr>\n",
       "      <th>3</th>\n",
       "      <td>American Samoa</td>\n",
       "      <td>ASM</td>\n",
       "      <td>NaN</td>\n",
       "    </tr>\n",
       "    <tr>\n",
       "      <th>4</th>\n",
       "      <td>Andorra</td>\n",
       "      <td>AND</td>\n",
       "      <td>NaN</td>\n",
       "    </tr>\n",
       "  </tbody>\n",
       "</table>\n",
       "</div>"
      ],
      "text/plain": [
       "     Country Name Country Code  Precipitation\n",
       "0     Afghanistan          AFG          327.0\n",
       "1         Albania          ALB         1485.0\n",
       "2         Algeria          DZA           89.0\n",
       "3  American Samoa          ASM            NaN\n",
       "4         Andorra          AND            NaN"
      ]
     },
     "execution_count": 113,
     "metadata": {},
     "output_type": "execute_result"
    }
   ],
   "source": [
    "# clean 'precipitation_df'\n",
    "# create a new column 'precipitation' that would convert '2020 [YR2020]' to numeric data type and handle non-numeric values\n",
    "precipitation_df['Precipitation'] = pd.to_numeric(precipitation_df['2020 [YR2020]'], errors='coerce')\n",
    "\n",
    "# find rows with non-numeric values\n",
    "non_numeric_rows = precipitation_df[precipitation_df['Precipitation'].isna()]\n",
    "# print(non_numeric_rows)\n",
    "\n",
    "# drop '2020 [YR2020]' column\n",
    "precipitation_df.drop(columns=['2020 [YR2020]', 'Series Name', 'Series Code'], inplace=True)\n",
    "\n",
    "# drop rows below index 217 as they are redundant\n",
    "precipitation_df.drop(precipitation_df.index[217:], inplace=True)\n",
    "\n",
    "precipitation_df.head(5)"
   ]
  },
  {
   "cell_type": "code",
   "execution_count": 114,
   "metadata": {},
   "outputs": [
    {
     "data": {
      "text/html": [
       "<div>\n",
       "<style scoped>\n",
       "    .dataframe tbody tr th:only-of-type {\n",
       "        vertical-align: middle;\n",
       "    }\n",
       "\n",
       "    .dataframe tbody tr th {\n",
       "        vertical-align: top;\n",
       "    }\n",
       "\n",
       "    .dataframe thead th {\n",
       "        text-align: right;\n",
       "    }\n",
       "</style>\n",
       "<table border=\"1\" class=\"dataframe\">\n",
       "  <thead>\n",
       "    <tr style=\"text-align: right;\">\n",
       "      <th></th>\n",
       "      <th>Country</th>\n",
       "      <th>Country Code</th>\n",
       "      <th>Region</th>\n",
       "    </tr>\n",
       "  </thead>\n",
       "  <tbody>\n",
       "    <tr>\n",
       "      <th>0</th>\n",
       "      <td>Afghanistan</td>\n",
       "      <td>AFG</td>\n",
       "      <td>South Asia</td>\n",
       "    </tr>\n",
       "    <tr>\n",
       "      <th>1</th>\n",
       "      <td>Albania</td>\n",
       "      <td>ALB</td>\n",
       "      <td>Europe and Central Asia</td>\n",
       "    </tr>\n",
       "    <tr>\n",
       "      <th>2</th>\n",
       "      <td>Algeria</td>\n",
       "      <td>DZA</td>\n",
       "      <td>Middle East and North Africa</td>\n",
       "    </tr>\n",
       "    <tr>\n",
       "      <th>3</th>\n",
       "      <td>American Samoa</td>\n",
       "      <td>ASM</td>\n",
       "      <td>East Asia and Pacific</td>\n",
       "    </tr>\n",
       "    <tr>\n",
       "      <th>4</th>\n",
       "      <td>Andorra</td>\n",
       "      <td>AND</td>\n",
       "      <td>Europe and Central Asia</td>\n",
       "    </tr>\n",
       "  </tbody>\n",
       "</table>\n",
       "</div>"
      ],
      "text/plain": [
       "          Country Country Code                        Region\n",
       "0     Afghanistan          AFG                    South Asia\n",
       "1         Albania          ALB       Europe and Central Asia\n",
       "2         Algeria          DZA  Middle East and North Africa\n",
       "3  American Samoa          ASM         East Asia and Pacific\n",
       "4         Andorra          AND       Europe and Central Asia"
      ]
     },
     "execution_count": 114,
     "metadata": {},
     "output_type": "execute_result"
    }
   ],
   "source": [
    "# clean 'region_wise_country_df'\n",
    "# drop 'Year' column\n",
    "region_wise_country_df.drop(columns=['Year'], inplace=True)\n",
    "\n",
    "# rename columns\n",
    "region_wise_country_df.rename(columns={'Entity': 'Country'}, inplace=True)\n",
    "region_wise_country_df.rename(columns={'Code': 'Country Code'}, inplace=True)\n",
    "region_wise_country_df.rename(columns={'World Region according to the World Bank': 'Region'}, inplace=True)\n",
    "\n",
    "region_wise_country_df.head(5)\n"
   ]
  },
  {
   "cell_type": "code",
   "execution_count": 115,
   "metadata": {},
   "outputs": [],
   "source": [
    "# merge all dataframes\n",
    "merged_df = pd.merge(GDP_df, precipitation_df, on='Country Code', how='outer')\n",
    "merged_df = pd.merge(merged_df, region_wise_country_df, on='Country Code', how='outer')\n",
    "\n",
    "# # view the complete DataFrame\n",
    "# pd.set_option('display.max_rows', None)\n",
    "# pd.set_option('display.max_columns', None)\n",
    "\n",
    "# drop 'Country Name_y' column\n",
    "merged_df.drop(columns=['Country Name_y', 'Country Name_x'], inplace=True)\n",
    "\n",
    "# drop rows with NaN values\n",
    "merged_df = merged_df.dropna()\n",
    "\n",
    "# export merged file in csv\n",
    "merged_df.to_csv('precipitationGDP_mergedFile.csv', index=False)"
   ]
  },
  {
   "cell_type": "markdown",
   "metadata": {},
   "source": [
    "South Asia Region"
   ]
  },
  {
   "cell_type": "code",
   "execution_count": 116,
   "metadata": {},
   "outputs": [
    {
     "data": {
      "text/html": [
       "<div>\n",
       "<style scoped>\n",
       "    .dataframe tbody tr th:only-of-type {\n",
       "        vertical-align: middle;\n",
       "    }\n",
       "\n",
       "    .dataframe tbody tr th {\n",
       "        vertical-align: top;\n",
       "    }\n",
       "\n",
       "    .dataframe thead th {\n",
       "        text-align: right;\n",
       "    }\n",
       "</style>\n",
       "<table border=\"1\" class=\"dataframe\">\n",
       "  <thead>\n",
       "    <tr style=\"text-align: right;\">\n",
       "      <th></th>\n",
       "      <th>Country Code</th>\n",
       "      <th>GDP</th>\n",
       "      <th>Precipitation</th>\n",
       "      <th>Country</th>\n",
       "      <th>Region</th>\n",
       "    </tr>\n",
       "  </thead>\n",
       "  <tbody>\n",
       "    <tr>\n",
       "      <th>0</th>\n",
       "      <td>AFG</td>\n",
       "      <td>1968.34</td>\n",
       "      <td>327.0</td>\n",
       "      <td>Afghanistan</td>\n",
       "      <td>South Asia</td>\n",
       "    </tr>\n",
       "    <tr>\n",
       "      <th>15</th>\n",
       "      <td>BGD</td>\n",
       "      <td>5591.37</td>\n",
       "      <td>2666.0</td>\n",
       "      <td>Bangladesh</td>\n",
       "      <td>South Asia</td>\n",
       "    </tr>\n",
       "    <tr>\n",
       "      <th>22</th>\n",
       "      <td>BTN</td>\n",
       "      <td>10547.05</td>\n",
       "      <td>2200.0</td>\n",
       "      <td>Bhutan</td>\n",
       "      <td>South Asia</td>\n",
       "    </tr>\n",
       "    <tr>\n",
       "      <th>89</th>\n",
       "      <td>IND</td>\n",
       "      <td>6172.04</td>\n",
       "      <td>1083.0</td>\n",
       "      <td>India</td>\n",
       "      <td>South Asia</td>\n",
       "    </tr>\n",
       "    <tr>\n",
       "      <th>121</th>\n",
       "      <td>MDV</td>\n",
       "      <td>13419.33</td>\n",
       "      <td>1972.0</td>\n",
       "      <td>Maldives</td>\n",
       "      <td>South Asia</td>\n",
       "    </tr>\n",
       "    <tr>\n",
       "      <th>138</th>\n",
       "      <td>NPL</td>\n",
       "      <td>3761.80</td>\n",
       "      <td>1500.0</td>\n",
       "      <td>Nepal</td>\n",
       "      <td>South Asia</td>\n",
       "    </tr>\n",
       "    <tr>\n",
       "      <th>149</th>\n",
       "      <td>PAK</td>\n",
       "      <td>5004.35</td>\n",
       "      <td>494.0</td>\n",
       "      <td>Pakistan</td>\n",
       "      <td>South Asia</td>\n",
       "    </tr>\n",
       "    <tr>\n",
       "      <th>180</th>\n",
       "      <td>LKA</td>\n",
       "      <td>12939.44</td>\n",
       "      <td>1712.0</td>\n",
       "      <td>Sri Lanka</td>\n",
       "      <td>South Asia</td>\n",
       "    </tr>\n",
       "  </tbody>\n",
       "</table>\n",
       "</div>"
      ],
      "text/plain": [
       "    Country Code       GDP  Precipitation      Country      Region\n",
       "0            AFG   1968.34          327.0  Afghanistan  South Asia\n",
       "15           BGD   5591.37         2666.0   Bangladesh  South Asia\n",
       "22           BTN  10547.05         2200.0       Bhutan  South Asia\n",
       "89           IND   6172.04         1083.0        India  South Asia\n",
       "121          MDV  13419.33         1972.0     Maldives  South Asia\n",
       "138          NPL   3761.80         1500.0        Nepal  South Asia\n",
       "149          PAK   5004.35          494.0     Pakistan  South Asia\n",
       "180          LKA  12939.44         1712.0    Sri Lanka  South Asia"
      ]
     },
     "execution_count": 116,
     "metadata": {},
     "output_type": "execute_result"
    }
   ],
   "source": [
    "# Region == 'South Asia'\n",
    "southAsia_df = merged_df[merged_df['Region'] == 'South Asia']\n",
    "southAsia_df\n"
   ]
  },
  {
   "cell_type": "code",
   "execution_count": 117,
   "metadata": {},
   "outputs": [
    {
     "name": "stdout",
     "output_type": "stream",
     "text": [
      "[(6172.04, 1083.0), (12939.44, 1712.0), (5004.35, 494.0), (13419.33, 1972.0), (10547.05, 2200.0), (5591.37, 2666.0)]\n",
      "[(1968.34, 327.0), (3761.8, 1500.0)]\n"
     ]
    }
   ],
   "source": [
    "# create dataset with x and y coordinates for the South Aisa region\n",
    "southAsia_xyDataset = list(zip(southAsia_df['GDP'], southAsia_df['Precipitation']))\n",
    "\n",
    "# split the dataset into training and testing datasets\n",
    "southAsiaTraining_Dataset, southAsiaTesting_Dataset = split_data(southAsia_xyDataset, 80)\n",
    "print(southAsiaTraining_Dataset)\n",
    "print(southAsiaTesting_Dataset)"
   ]
  },
  {
   "cell_type": "markdown",
   "metadata": {},
   "source": [
    "Training Dataset - South Asia"
   ]
  },
  {
   "cell_type": "code",
   "execution_count": 118,
   "metadata": {},
   "outputs": [
    {
     "name": "stdout",
     "output_type": "stream",
     "text": [
      "[6172.04, 12939.44, 5004.35, 13419.33, 10547.05, 5591.37]\n",
      "[1083.0, 1712.0, 494.0, 1972.0, 2200.0, 2666.0]\n"
     ]
    }
   ],
   "source": [
    "# create two lists of x and y coordinates from training dataset for the South Asia region\n",
    "# original lists\n",
    "southAsiaTraining_xList, southAsiaTraining_yList = create_xyLists(southAsiaTraining_Dataset)\n",
    "\n",
    "print(southAsiaTraining_xList)\n",
    "print(southAsiaTraining_yList)"
   ]
  },
  {
   "cell_type": "code",
   "execution_count": 119,
   "metadata": {},
   "outputs": [
    {
     "name": "stdout",
     "output_type": "stream",
     "text": [
      "[6172.04, 12939.44, 5004.35, 13419.33, 10547.05, 5591.37]\n",
      "[1486.873020003749, 1977.2105136526839, 1402.2670874507853, 2011.9813355085203, 1803.8679424391048, 1444.800100945155]\n"
     ]
    }
   ],
   "source": [
    "## using OLS to validate the best fitted line \n",
    "\n",
    "# y_hat = beta0 + (beta1 * x)\n",
    "southAsiaTraining_yhatList_OLS = []\n",
    "\n",
    "# find a list of y_hat values, using OLS, for every value of x\n",
    "for (x,y) in list(zip(southAsiaTraining_xList, southAsiaTraining_yList)):\n",
    "    southAsiaTraining_yhatList_OLS.append(find_beta0(southAsiaTraining_xList, southAsiaTraining_yList) + (find_beta1(southAsiaTraining_xList, southAsiaTraining_yList) * x))\n",
    "\n",
    "print(southAsiaTraining_xList)\n",
    "print(southAsiaTraining_yhatList_OLS)"
   ]
  },
  {
   "cell_type": "code",
   "execution_count": 120,
   "metadata": {},
   "outputs": [
    {
     "name": "stdout",
     "output_type": "stream",
     "text": [
      "In Gradient Descent:-\n",
      "1. The mean squared error is: 451374.5737757064\n",
      "2. The final value of beta 0 is: 1039.6716989065314\n",
      "3. The final value of beta 1 is: 0.0724559234491282\n",
      "[6172.04, 12939.44, 5004.35, 13419.33, 10547.05, 5591.37]\n",
      "[1486.8725566714886, 1977.2107730211187, 1402.2664994191762, 2011.981646125121, 1803.867946320659, 1444.7995756022833]\n",
      "training constant 1039.6716989065314\n",
      "training slope: 0.0724559234491282\n"
     ]
    }
   ],
   "source": [
    "## using gradient descent\n",
    "\n",
    "# config of y_hat coordinated in gradient descent\n",
    "initialBeta0forGradientDescent = 0\n",
    "initialBeta1forGradientDescent = 1\n",
    "alphaOfBeta0 = 0.16\n",
    "alphaOfBeta1 = 0.000000009\n",
    "maxIter = 300\n",
    "\n",
    "# find yhat coordinates for each x, the constant, and the slope for the training dataset using gradient descent method\n",
    "southAsiaTraining_yhatList_GD, southAsiaTrainingConstant, southAsiaTrainingSlope = findYcoordinatesFromGradientDescent(southAsiaTraining_xList, southAsiaTraining_yList, initialBeta0forGradientDescent, initialBeta1forGradientDescent, alphaOfBeta0, alphaOfBeta1, maxIter)\n",
    "print(southAsiaTraining_xList)\n",
    "print(southAsiaTraining_yhatList_GD)\n",
    "print(f\"training constant {southAsiaTrainingConstant}\")\n",
    "print(f\"training slope: {southAsiaTrainingSlope}\")"
   ]
  },
  {
   "cell_type": "code",
   "execution_count": 121,
   "metadata": {},
   "outputs": [],
   "source": [
    "# calculating t-value\n",
    "southAsiat_value = calT_value(southAsiaTraining_yhatList_GD, southAsiaTraining_yList, southAsiaTraining_xList, southAsiaTrainingSlope)"
   ]
  },
  {
   "cell_type": "code",
   "execution_count": 122,
   "metadata": {},
   "outputs": [],
   "source": [
    "# append the data relating to region, coefficient, and t-value to a list\n",
    "regions_coefficients_t_value = []\n",
    "regions_coefficients_t_value.append(['South Asia', southAsiaTrainingSlope, southAsiat_value])"
   ]
  },
  {
   "cell_type": "code",
   "execution_count": 123,
   "metadata": {},
   "outputs": [
    {
     "name": "stdout",
     "output_type": "stream",
     "text": [
      "As you can see the blue line (GD) is almost superseeding the red line (OLS)\n"
     ]
    },
    {
     "data": {
      "image/png": "[encoded data removed]",
      "text/plain": [
       "<Figure size 640x480 with 1 Axes>"
      ]
     },
     "metadata": {},
     "output_type": "display_data"
    }
   ],
   "source": [
    "## mapping graphs\n",
    "\n",
    "# plotting the scatter plot of randomized points\n",
    "plt.scatter(southAsiaTraining_xList, southAsiaTraining_yList)\n",
    "\n",
    "# obtaining the linear regression curve from OLS\n",
    "plt.plot(southAsiaTraining_xList, southAsiaTraining_yhatList_OLS, color = 'red')\n",
    "\n",
    "# obtaining the linear regression curve from gradient descent\n",
    "plt.plot(southAsiaTraining_xList, southAsiaTraining_yhatList_GD, color = 'blue')\n",
    "print(\"As you can see the blue line (GD) is almost superseeding the red line (OLS)\")\n",
    "# plt.show\n"
   ]
  },
  {
   "cell_type": "markdown",
   "metadata": {},
   "source": [
    "Testing Dataset - South Asia"
   ]
  },
  {
   "cell_type": "code",
   "execution_count": 124,
   "metadata": {},
   "outputs": [
    {
     "name": "stdout",
     "output_type": "stream",
     "text": [
      "According to the Gradient Descent methodology, the optimum coefficient is 0.0724559234491282. \n",
      "However, due to extremely small sample size, the coefficient is not accurate. \n",
      "Therefore, the line in testing dataset is not a good fit\n"
     ]
    },
    {
     "data": {
      "image/png": "[encoded data removed]",
      "text/plain": [
       "<Figure size 640x480 with 1 Axes>"
      ]
     },
     "metadata": {},
     "output_type": "display_data"
    }
   ],
   "source": [
    "# create two lists of x and y coordinates from testing dataset for the South Asia region\n",
    "# original lists\n",
    "southAsiaTesting_xList, southAsiaTesting_yList = create_xyLists(southAsiaTesting_Dataset)\n",
    "\n",
    "# find yhat coordinates for each x for the testing dataset using the derived slope and constant from gradient descent algorithm\n",
    "southAsiaTesting_yhatList_GD = []\n",
    "for x in southAsiaTesting_xList:\n",
    "    southAsiaTesting_yhatList_GD.append(southAsiaTrainingConstant + (southAsiaTrainingSlope * x))\n",
    "\n",
    "## mapping graphs\n",
    "\n",
    "# plotting the scatter plot of randomized points\n",
    "plt.scatter(southAsiaTesting_xList, southAsiaTesting_yList)\n",
    "\n",
    "# obtaining the linear regression curve from gradient descent\n",
    "plt.plot(southAsiaTesting_xList, southAsiaTesting_yhatList_GD, color = 'blue')\n",
    "\n",
    "print(f\"According to the Gradient Descent methodology, the optimum coefficient is {southAsiaTrainingSlope}. \\n\"\n",
    "      \"However, due to extremely small sample size, the coefficient is not accurate. \\n\"\n",
    "      \"Therefore, the line in testing dataset is not a good fit\") "
   ]
  },
  {
   "cell_type": "markdown",
   "metadata": {},
   "source": [
    "Europe and Central Asia Region"
   ]
  },
  {
   "cell_type": "code",
   "execution_count": 125,
   "metadata": {},
   "outputs": [
    {
     "name": "stdout",
     "output_type": "stream",
     "text": [
      "[(63776.16, 1414.0), (35883.27, 626.0), (37166.3, 656.0), (26586.55, 460.0), (51840.33, 700.0), (111751.31, 934.0), (31232.1, 589.0), (13278.37, 1485.0), (42233.14, 867.0), (11848.9, 450.0), (51641.39, 1940.0), (30960.26, 824.0), (27103.54, 652.0), (47371.22, 536.0), (37098.12, 1162.0), (15779.73, 619.0), (32546.83, 600.0), (41741.02, 1220.0), (29057.28, 637.0), (30568.5, 667.0), (3651.94, 691.0), (4726.2, 533.0), (25361.51, 250.0), (13726.77, 447.0), (26945.88, 1113.0), (14269.64, 161.0), (39464.54, 498.0), (55518.6, 703.0), (22479.58, 608.0), (67765.88, 1537.0), (51331.28, 624.0), (35987.24, 636.0), (54275.0, 778.0), (91356.86, 1118.0), (48988.23, 847.0), (32011.33, 854.0)]\n",
      "[(13357.7, 562.0), (51988.42, 1110.0), (19239.55, 618.0), (14587.48, 1028.0), (38639.98, 677.0), (13966.33, 1026.0), (39091.41, 832.0), (28473.21, 593.0), (12407.79, 565.0), (7407.73, 206.0)]\n"
     ]
    }
   ],
   "source": [
    "# Region == 'Europe and Central Asia'\n",
    "ECA_df = merged_df[merged_df['Region'] == 'Europe and Central Asia']\n",
    "\n",
    "# create dataset with x and y coordinates for the Europe and Central Asia region\n",
    "ECA_xyDataset = list(zip(ECA_df['GDP'], ECA_df['Precipitation']))\n",
    "\n",
    "# split the dataset into training and testing datasets\n",
    "ECATraining_Dataset, ECATesting_Dataset = split_data(ECA_xyDataset, 80)\n",
    "print(ECATraining_Dataset)\n",
    "print(ECATesting_Dataset)"
   ]
  },
  {
   "cell_type": "markdown",
   "metadata": {},
   "source": [
    "Training Dataset - Europe and Central Asia"
   ]
  },
  {
   "cell_type": "code",
   "execution_count": 126,
   "metadata": {},
   "outputs": [
    {
     "name": "stdout",
     "output_type": "stream",
     "text": [
      "[63776.16, 35883.27, 37166.3, 26586.55, 51840.33, 111751.31, 31232.1, 13278.37, 42233.14, 11848.9, 51641.39, 30960.26, 27103.54, 47371.22, 37098.12, 15779.73, 32546.83, 41741.02, 29057.28, 30568.5, 3651.94, 4726.2, 25361.51, 13726.77, 26945.88, 14269.64, 39464.54, 55518.6, 22479.58, 67765.88, 51331.28, 35987.24, 54275.0, 91356.86, 48988.23, 32011.33]\n",
      "[1414.0, 626.0, 656.0, 460.0, 700.0, 934.0, 589.0, 1485.0, 867.0, 450.0, 1940.0, 824.0, 652.0, 536.0, 1162.0, 619.0, 600.0, 1220.0, 637.0, 667.0, 691.0, 533.0, 250.0, 447.0, 1113.0, 161.0, 498.0, 703.0, 608.0, 1537.0, 624.0, 636.0, 778.0, 1118.0, 847.0, 854.0]\n"
     ]
    }
   ],
   "source": [
    "# create two lists of x and y coordinates from training dataset for the Europe and Central Asia region\n",
    "# original lists\n",
    "ECATraining_xList, ECATraining_yList = create_xyLists(ECATraining_Dataset)\n",
    "\n",
    "# # normalize SAsia_xList and SAsia_yList to [0, 1] range\n",
    "# # calculations using large values give OverflowError indicating that it exceeded the range of its datatype (int/float)\n",
    "# normalized_SAsia_xList = normalized_list(SAsiaTraining_xList)\n",
    "# normalised_SAsia_yList = normalized_list(SAsiaTraining_yList)\n",
    "\n",
    "print(ECATraining_xList)\n",
    "print(ECATraining_yList)"
   ]
  },
  {
   "cell_type": "code",
   "execution_count": 127,
   "metadata": {},
   "outputs": [
    {
     "name": "stdout",
     "output_type": "stream",
     "text": [
      "[63776.16, 35883.27, 37166.3, 26586.55, 51840.33, 111751.31, 31232.1, 13278.37, 42233.14, 11848.9, 51641.39, 30960.26, 27103.54, 47371.22, 37098.12, 15779.73, 32546.83, 41741.02, 29057.28, 30568.5, 3651.94, 4726.2, 25361.51, 13726.77, 26945.88, 14269.64, 39464.54, 55518.6, 22479.58, 67765.88, 51331.28, 35987.24, 54275.0, 91356.86, 48988.23, 32011.33]\n",
      "[973.424031104551, 777.0758645570281, 786.1075779479845, 711.6328815278159, 889.403395855822, 1311.1385075299909, 744.3345924335285, 617.9517770210971, 821.7749019215723, 607.8892193716499, 888.0029850610651, 742.4210121055569, 715.2721615960843, 857.9437100864666, 785.6276342062205, 635.559757043078, 753.5894536187634, 818.310690801055, 729.0252458734954, 739.663271415128, 550.1878457505092, 557.7499514123944, 703.0093807737751, 621.1082272089375, 714.1623356892715, 624.9296859811784, 802.2857226395593, 915.2960721101203, 682.7224305288094, 1001.5091168392305, 885.8200083265622, 777.8077470860865, 906.5419207863064, 1167.574579043372, 869.3264297970813, 749.8198749488515]\n",
      "0.007039362595540396\n"
     ]
    }
   ],
   "source": [
    "## using OLS to validate the best fitted line \n",
    "\n",
    "# y_hat = beta0 + (beta1 * x)\n",
    "ECATraining_yhatList_OLS = []\n",
    "\n",
    "# find a list of y_hat values, using OLS, for every value of x\n",
    "for (x,y) in list(zip(ECATraining_xList, ECATraining_yList)):\n",
    "    ECATraining_yhatList_OLS.append(find_beta0(ECATraining_xList, ECATraining_yList) + (find_beta1(ECATraining_xList, ECATraining_yList) * x))\n",
    "\n",
    "print(ECATraining_xList)\n",
    "print(ECATraining_yhatList_OLS)\n",
    "print(find_beta1(ECATraining_xList, ECATraining_yList))\n"
   ]
  },
  {
   "cell_type": "code",
   "execution_count": 128,
   "metadata": {},
   "outputs": [
    {
     "name": "stdout",
     "output_type": "stream",
     "text": [
      "In Gradient Descent:-\n",
      "1. The mean squared error is: 111640.20458882258\n",
      "2. The final value of beta 0 is: 524.3475042147951\n",
      "3. The final value of beta 1 is: 0.0070419925358448975\n",
      "[63776.16, 35883.27, 37166.3, 26586.55, 51840.33, 111751.31, 31232.1, 13278.37, 42233.14, 11848.9, 51641.39, 30960.26, 27103.54, 47371.22, 37098.12, 15779.73, 32546.83, 41741.02, 29057.28, 30568.5, 3651.94, 4726.2, 25361.51, 13726.77, 26945.88, 14269.64, 39464.54, 55518.6, 22479.58, 67765.88, 51331.28, 35987.24, 54275.0, 91356.86, 48988.23, 32011.33]\n",
      "[973.4587468996451, 777.0372237165022, 786.0723113997674, 711.5697908686623, 889.4067211305314, 1311.2993951056842, 744.2837192935565, 617.8536866429819, 821.7529608600877, 607.7873695727677, 888.0057871354504, 742.3694240426124, 715.2104305897687, 857.9352818686616, 785.5921883486734, 635.4682450924429, 753.5420381402079, 818.2874554933476, 728.9686530867504, 739.6106530467698, 550.0644384361485, 557.6293693377053, 702.9430683325509, 621.0113160960548, 714.1001900465674, 624.8342025839888, 802.2565003253475, 915.3090710153535, 682.6485387837233, 1001.5543253597561, 885.8219948301596, 777.769379680454, 906.5516490977769, 1167.6818304330222, 869.3222542190482, 749.7710511372629]\n",
      "training constant 524.3475042147951\n",
      "training slope: 0.0070419925358448975\n"
     ]
    }
   ],
   "source": [
    "## using gradient descent\n",
    "\n",
    "# config of y_hat coordinated in gradient descent\n",
    "initialBeta0forGradientDescent = 0\n",
    "initialBeta1forGradientDescent = 1\n",
    "alphaOfBeta0 = 0.00055555555\n",
    "alphaOfBeta1 = 0.00000000009\n",
    "maxIter = 30000\n",
    "\n",
    "# find yhat coordinates for each x, the constant, and the slope for the training dataset using gradient descent method\n",
    "ECATraining_yhatList_GD, ECATrainingConstant, ECATrainingSlope = findYcoordinatesFromGradientDescent(ECATraining_xList, ECATraining_yList, initialBeta0forGradientDescent, initialBeta1forGradientDescent, alphaOfBeta0, alphaOfBeta1, maxIter)\n",
    "print(ECATraining_xList)\n",
    "print(ECATraining_yhatList_GD)\n",
    "print(f\"training constant {ECATrainingConstant}\")\n",
    "print(f\"training slope: {ECATrainingSlope}\")"
   ]
  },
  {
   "cell_type": "code",
   "execution_count": 129,
   "metadata": {},
   "outputs": [],
   "source": [
    "# calculating t-value\n",
    "ECAt_value = calT_value(ECATraining_yhatList_GD, ECATraining_yList, ECATraining_xList, ECATrainingSlope)"
   ]
  },
  {
   "cell_type": "code",
   "execution_count": 130,
   "metadata": {},
   "outputs": [],
   "source": [
    "# append the data relating to region, coefficient, and t-value to a list\n",
    "regions_coefficients_t_value.append(['Europe and Central Asia', ECATrainingSlope, ECAt_value])"
   ]
  },
  {
   "cell_type": "code",
   "execution_count": 131,
   "metadata": {},
   "outputs": [
    {
     "name": "stdout",
     "output_type": "stream",
     "text": [
      "As you can see the blue line (GD) is almost superseeding the red line (OLS)\n"
     ]
    },
    {
     "data": {
      "image/png": "[encoded data removed]",
      "text/plain": [
       "<Figure size 640x480 with 1 Axes>"
      ]
     },
     "metadata": {},
     "output_type": "display_data"
    }
   ],
   "source": [
    "## mapping graphs\n",
    "\n",
    "# plotting the scatter plot of randomized points\n",
    "plt.scatter(ECATraining_xList, ECATraining_yList)\n",
    "\n",
    "# obtaining the linear regression curve from OLS\n",
    "plt.plot(ECATraining_xList, ECATraining_yhatList_OLS, color = 'red')\n",
    "\n",
    "# obtaining the linear regression curve from gradient descent\n",
    "plt.plot(ECATraining_xList, ECATraining_yhatList_GD, color = 'blue')\n",
    "print(\"As you can see the blue line (GD) is almost superseeding the red line (OLS)\")\n",
    "# plt.show"
   ]
  },
  {
   "cell_type": "markdown",
   "metadata": {},
   "source": [
    "Testing Dataset - Europe and Central Asia"
   ]
  },
  {
   "cell_type": "code",
   "execution_count": 132,
   "metadata": {},
   "outputs": [
    {
     "name": "stdout",
     "output_type": "stream",
     "text": [
      "According to the Gradient Descent methodology, the optimum coefficient is 0.0070419925358448975. \n",
      "However, due to extremely small sample size, the coefficient is not accurate. \n",
      "Therefore, although the direction of the line is correctly predicted, the line in testing dataset is not a good fit.\n"
     ]
    },
    {
     "data": {
      "image/png": "[encoded data removed]",
      "text/plain": [
       "<Figure size 640x480 with 1 Axes>"
      ]
     },
     "metadata": {},
     "output_type": "display_data"
    }
   ],
   "source": [
    "# create two lists of x and y coordinates from testing dataset\n",
    "# original lists\n",
    "ECATesting_xList, ECATesting_yList = create_xyLists(ECATesting_Dataset)\n",
    "\n",
    "# find yhat coordinates for each x for the testing dataset using the derived slope and constant from gradient descent algorithm\n",
    "ECATesting_yhatList_GD = []\n",
    "for x in ECATesting_xList:\n",
    "    ECATesting_yhatList_GD.append(ECATrainingConstant + (ECATrainingSlope * x))\n",
    "\n",
    "## mapping graphs\n",
    "\n",
    "# plotting the scatter plot of randomized points\n",
    "plt.scatter(ECATesting_xList, ECATesting_yList)\n",
    "\n",
    "# obtaining the linear regression curve from gradient descent\n",
    "plt.plot(ECATesting_xList, ECATesting_yhatList_GD, color = 'blue')\n",
    "\n",
    "print(f\"According to the Gradient Descent methodology, the optimum coefficient is {ECATrainingSlope}. \\n\"\n",
    "      \"However, due to extremely small sample size, the coefficient is not accurate. \\n\"\n",
    "      \"Therefore, although the direction of the line is correctly predicted, the line in testing dataset is not a good fit.\") "
   ]
  },
  {
   "cell_type": "markdown",
   "metadata": {},
   "source": [
    "Middle East and North Africa Region"
   ]
  },
  {
   "cell_type": "code",
   "execution_count": 133,
   "metadata": {},
   "outputs": [
    {
     "name": "stdout",
     "output_type": "stream",
     "text": [
      "[(89019.07, 74.0), (9184.0, 111.0), (13791.27, 661.0), (10040.14, 207.0), (43922.63, 121.0), (8848.12, 216.0), (14432.36, 228.0), (15621.0, 56.0), (11989.6, 18.1), (7546.0, 346.0), (5402.54, 402.0), (33098.21, 125.0), (39680.67, 435.0), (10844.77, 89.0), (4753.89, 220.0)]\n",
      "[(47994.41, 83.0), (41012.97, 560.0), (44770.91, 59.0), (67668.29, 78.0)]\n"
     ]
    }
   ],
   "source": [
    "# Region == 'Middle East and North Africa'\n",
    "MENA_df = merged_df[merged_df['Region'] == 'Middle East and North Africa']\n",
    "\n",
    "# create dataset with x and y coordinates\n",
    "MENA_xyDataset = list(zip(MENA_df['GDP'], MENA_df['Precipitation']))\n",
    "\n",
    "# split the dataset into training and testing datasets\n",
    "MENATraining_Dataset, MENATesting_Dataset = split_data(MENA_xyDataset, 80)\n",
    "print(MENATraining_Dataset)\n",
    "print(MENATesting_Dataset)"
   ]
  },
  {
   "cell_type": "markdown",
   "metadata": {},
   "source": [
    "Training Dataset - Middle East and North Africa"
   ]
  },
  {
   "cell_type": "code",
   "execution_count": 134,
   "metadata": {},
   "outputs": [
    {
     "name": "stdout",
     "output_type": "stream",
     "text": [
      "[89019.07, 9184.0, 13791.27, 10040.14, 43922.63, 8848.12, 14432.36, 15621.0, 11989.6, 7546.0, 5402.54, 33098.21, 39680.67, 10844.77, 4753.89]\n",
      "[74.0, 111.0, 661.0, 207.0, 121.0, 216.0, 228.0, 56.0, 18.1, 346.0, 402.0, 125.0, 435.0, 89.0, 220.0]\n"
     ]
    }
   ],
   "source": [
    "# create two lists of x and y coordinates from training dataset\n",
    "# original lists\n",
    "MENATraining_xList, MENATraining_yList = create_xyLists(MENATraining_Dataset)\n",
    "\n",
    "# # normalize SAsia_xList and SAsia_yList to [0, 1] range\n",
    "# # calculations using large values give OverflowError indicating that it exceeded the range of its datatype (int/float)\n",
    "# normalized_SAsia_xList = normalized_list(SAsiaTraining_xList)\n",
    "# normalised_SAsia_yList = normalized_list(SAsiaTraining_yList)\n",
    "\n",
    "print(MENATraining_xList)\n",
    "print(MENATraining_yList)"
   ]
  },
  {
   "cell_type": "code",
   "execution_count": 135,
   "metadata": {},
   "outputs": [
    {
     "name": "stdout",
     "output_type": "stream",
     "text": [
      "[89019.07, 9184.0, 13791.27, 10040.14, 43922.63, 8848.12, 14432.36, 15621.0, 11989.6, 7546.0, 5402.54, 33098.21, 39680.67, 10844.77, 4753.89]\n",
      "[109.1454130835196, 240.37755231945928, 232.80416510833052, 238.97023741780694, 183.2745181638458, 240.9296687130012, 231.75034737957088, 229.79647209667317, 235.76573335518265, 243.07008135548904, 246.59348079844898, 201.06759822989062, 190.2474122234776, 237.64759417100558, 247.659725584298]\n"
     ]
    }
   ],
   "source": [
    "## using OLS to validate the best fitted line \n",
    "\n",
    "# y_hat = beta0 + (beta1 * x)\n",
    "MENATraining_yhatList_OLS = []\n",
    "\n",
    "# find a list of y_hat values, using OLS, for every value of x\n",
    "for (x,y) in list(zip(MENATraining_xList, MENATraining_yList)):\n",
    "    MENATraining_yhatList_OLS.append(find_beta0(MENATraining_xList, MENATraining_yList) + (find_beta1(MENATraining_xList, MENATraining_yList) * x))\n",
    "\n",
    "print(MENATraining_xList)\n",
    "print(MENATraining_yhatList_OLS)"
   ]
  },
  {
   "cell_type": "code",
   "execution_count": 136,
   "metadata": {},
   "outputs": [
    {
     "name": "stdout",
     "output_type": "stream",
     "text": [
      "In Gradient Descent:-\n",
      "1. The mean squared error is: 27182.787016870738\n",
      "2. The final value of beta 0 is: 255.47410875925755\n",
      "3. The final value of beta 1 is: -0.0016437902360596976\n",
      "[89019.07, 9184.0, 13791.27, 10040.14, 43922.63, 8848.12, 14432.36, 15621.0, 11989.6, 7546.0, 5402.54, 33098.21, 39680.67, 10844.77, 4753.89]\n",
      "[109.14543067014279, 240.37753923128528, 232.8041537903945, 238.97022465858512, 183.2745184231948, 240.929655495773, 231.750336307959, 229.796461481769, 235.7657213449962, 243.07006763795107, 246.5934662573356, 201.0675943302041, 190.2474108529506, 237.64758172094443, 247.6597107939557]\n",
      "training constant 255.47410875925755\n",
      "training slope: -0.0016437902360596976\n"
     ]
    }
   ],
   "source": [
    "## using gradient descent\n",
    "\n",
    "# config of y_hat coordinated in gradient descent\n",
    "initialBeta0forGradientDescent = 0\n",
    "initialBeta1forGradientDescent = 1\n",
    "alphaOfBeta0 = 0.00055555555\n",
    "alphaOfBeta1 = 0.00000000009\n",
    "maxIter = 30000\n",
    "\n",
    "# find yhat coordinates for each x, the constant, and the slope for the training dataset using gradient descent method\n",
    "MENATraining_yhatList_GD, MENATrainingConstant, MENATrainingSlope = findYcoordinatesFromGradientDescent(MENATraining_xList, MENATraining_yList, initialBeta0forGradientDescent, initialBeta1forGradientDescent, alphaOfBeta0, alphaOfBeta1, maxIter)\n",
    "print(MENATraining_xList)\n",
    "print(MENATraining_yhatList_GD)\n",
    "print(f\"training constant {MENATrainingConstant}\")\n",
    "print(f\"training slope: {MENATrainingSlope}\")"
   ]
  },
  {
   "cell_type": "code",
   "execution_count": 137,
   "metadata": {},
   "outputs": [],
   "source": [
    "# calculating t-value\n",
    "MENAt_value = calT_value(MENATraining_yhatList_GD, MENATraining_yList, MENATraining_xList, MENATrainingSlope)"
   ]
  },
  {
   "cell_type": "code",
   "execution_count": 138,
   "metadata": {},
   "outputs": [],
   "source": [
    "# append the data relating to region, coefficient, and t-value to a list\n",
    "regions_coefficients_t_value.append(['Middle East and North Africa', MENATrainingSlope, MENAt_value])"
   ]
  },
  {
   "cell_type": "code",
   "execution_count": 139,
   "metadata": {},
   "outputs": [
    {
     "name": "stdout",
     "output_type": "stream",
     "text": [
      "As you can see the blue line (GD) is almost superseeding the red line (OLS)\n"
     ]
    },
    {
     "data": {
      "image/png": "[encoded data removed]",
      "text/plain": [
       "<Figure size 640x480 with 1 Axes>"
      ]
     },
     "metadata": {},
     "output_type": "display_data"
    }
   ],
   "source": [
    "## mapping graphs\n",
    "\n",
    "# plotting the scatter plot of randomized points\n",
    "plt.scatter(MENATraining_xList, MENATraining_yList)\n",
    "\n",
    "# obtaining the linear regression curve from OLS\n",
    "plt.plot(MENATraining_xList, MENATraining_yhatList_OLS, color = 'red')\n",
    "\n",
    "# obtaining the linear regression curve from gradient descent\n",
    "plt.plot(MENATraining_xList, MENATraining_yhatList_GD, color = 'blue')\n",
    "print(\"As you can see the blue line (GD) is almost superseeding the red line (OLS)\")\n",
    "# plt.show"
   ]
  },
  {
   "cell_type": "markdown",
   "metadata": {},
   "source": [
    "Testing Dataset - Middle East and North Africa"
   ]
  },
  {
   "cell_type": "code",
   "execution_count": 140,
   "metadata": {},
   "outputs": [
    {
     "name": "stdout",
     "output_type": "stream",
     "text": [
      "According to the Gradient Descent methodology, the optimum coefficient is -0.0016437902360596976. \n",
      "However, due to extremely small sample size, the coefficient is not accurate. \n",
      "Therefore the line in testing dataset is not a good fit.\n"
     ]
    },
    {
     "data": {
      "image/png": "[encoded data removed]",
      "text/plain": [
       "<Figure size 640x480 with 1 Axes>"
      ]
     },
     "metadata": {},
     "output_type": "display_data"
    }
   ],
   "source": [
    "# create two lists of x and y coordinates from testing dataset\n",
    "# original lists\n",
    "MENATesting_xList, MENATesting_yList = create_xyLists(MENATesting_Dataset)\n",
    "\n",
    "# find yhat coordinates for each x for the testing dataset using the derived slope and constant from gradient descent algorithm\n",
    "MENATesting_yhatList_GD = []\n",
    "for x in MENATesting_xList:\n",
    "    MENATesting_yhatList_GD.append(MENATrainingConstant + (MENATrainingSlope * x))\n",
    "\n",
    "## mapping graphs\n",
    "\n",
    "# plotting the scatter plot of randomized points\n",
    "plt.scatter(MENATesting_xList, MENATesting_yList)\n",
    "\n",
    "# obtaining the linear regression curve from gradient descent\n",
    "plt.plot(MENATesting_xList, MENATesting_yhatList_GD, color = 'blue')\n",
    "\n",
    "print(f\"According to the Gradient Descent methodology, the optimum coefficient is {MENATrainingSlope}. \\n\"\n",
    "      \"However, due to extremely small sample size, the coefficient is not accurate. \\n\"\n",
    "      \"Therefore the line in testing dataset is not a good fit.\") "
   ]
  },
  {
   "cell_type": "markdown",
   "metadata": {},
   "source": [
    "Sub-Saharan Africa Region"
   ]
  },
  {
   "cell_type": "code",
   "execution_count": 141,
   "metadata": {},
   "outputs": [
    {
     "name": "stdout",
     "output_type": "stream",
     "text": [
      "[(1436.21, 1513.0), (2240.49, 1180.0), (12815.91, 495.0), (5092.16, 1348.0), (3186.49, 1039.0), (2064.14, 1168.0), (1044.07, 1543.0), (2093.73, 748.0), (3384.44, 686.0), (6029.69, 1010.0), (4497.36, 630.0), (1990.32, 657.0), (1489.6, 1181.0), (711.36, 1274.0), (3222.37, 900.0), (3665.51, 1604.0), (13545.22, 416.0), (2604.12, 1651.0), (2253.24, 848.0), (6228.43, 228.0), (1383.83, 2391.0), (2123.83, 282.0), (5314.85, 92.0), (1233.42, 1032.0), (3384.65, 1646.0), (1127.42, 282.0), (15132.38, 2156.0), (4058.67, 3200.0), (20219.81, 2041.0), (5263.53, 1187.0), (9041.77, 285.0), (1489.19, 322.0), (2066.63, 1212.0), (847.77, 1343.0), (3183.65, 1020.0), (1586.35, 2526.0)]\n",
      "[(8290.41, 788.0), (13903.29, 1831.0), (2042.62, 836.0), (1803.63, 1577.0), (2285.08, 788.0), (1214.55, 151.0), (4865.09, 1150.0), (26439.12, 2330.0), (3874.8, 250.0), (2551.51, 1071.0)]\n"
     ]
    }
   ],
   "source": [
    "# Region == 'Sub-Saharan Africa'\n",
    "SSA_df = merged_df[merged_df['Region'] == 'Sub-Saharan Africa']\n",
    "\n",
    "# create dataset with x and y coordinates\n",
    "SSA_xyDataset = list(zip(SSA_df['GDP'], SSA_df['Precipitation']))\n",
    "\n",
    "# split the dataset into training and testing datasets\n",
    "SSATraining_Dataset, SSATesting_Dataset = split_data(SSA_xyDataset, 80)\n",
    "print(SSATraining_Dataset)\n",
    "print(SSATesting_Dataset)"
   ]
  },
  {
   "cell_type": "markdown",
   "metadata": {},
   "source": [
    "Training Dataset - Sub-Saharan Africa"
   ]
  },
  {
   "cell_type": "code",
   "execution_count": 142,
   "metadata": {},
   "outputs": [
    {
     "name": "stdout",
     "output_type": "stream",
     "text": [
      "[1436.21, 2240.49, 12815.91, 5092.16, 3186.49, 2064.14, 1044.07, 2093.73, 3384.44, 6029.69, 4497.36, 1990.32, 1489.6, 711.36, 3222.37, 3665.51, 13545.22, 2604.12, 2253.24, 6228.43, 1383.83, 2123.83, 5314.85, 1233.42, 3384.65, 1127.42, 15132.38, 4058.67, 20219.81, 5263.53, 9041.77, 1489.19, 2066.63, 847.77, 3183.65, 1586.35]\n",
      "[1513.0, 1180.0, 495.0, 1348.0, 1039.0, 1168.0, 1543.0, 748.0, 686.0, 1010.0, 630.0, 657.0, 1181.0, 1274.0, 900.0, 1604.0, 416.0, 1651.0, 848.0, 228.0, 2391.0, 282.0, 92.0, 1032.0, 1646.0, 282.0, 2156.0, 3200.0, 2041.0, 1187.0, 285.0, 322.0, 1212.0, 1343.0, 1020.0, 2526.0]\n"
     ]
    }
   ],
   "source": [
    "# create two lists of x and y coordinates from training dataset\n",
    "# original lists\n",
    "SSATraining_xList, SSATraining_yList = create_xyLists(SSATraining_Dataset)\n",
    "\n",
    "# # normalize SAsia_xList and SAsia_yList to [0, 1] range\n",
    "# # calculations using large values give OverflowError indicating that it exceeded the range of its datatype (int/float)\n",
    "# normalized_SAsia_xList = normalized_list(SAsiaTraining_xList)\n",
    "# normalised_SAsia_yList = normalized_list(SAsiaTraining_yList)\n",
    "\n",
    "print(SSATraining_xList)\n",
    "print(SSATraining_yList)"
   ]
  },
  {
   "cell_type": "code",
   "execution_count": 143,
   "metadata": {},
   "outputs": [
    {
     "name": "stdout",
     "output_type": "stream",
     "text": [
      "[1436.21, 2240.49, 12815.91, 5092.16, 3186.49, 2064.14, 1044.07, 2093.73, 3384.44, 6029.69, 4497.36, 1990.32, 1489.6, 711.36, 3222.37, 3665.51, 13545.22, 2604.12, 2253.24, 6228.43, 1383.83, 2123.83, 5314.85, 1233.42, 3384.65, 1127.42, 15132.38, 4058.67, 20219.81, 5263.53, 9041.77, 1489.19, 2066.63, 847.77, 3183.65, 1586.35]\n",
      "[1128.5215730747673, 1132.4092034944754, 1183.5273768833308, 1146.193257603702, 1136.9818627388229, 1131.5567844059547, 1126.6260946433947, 1131.6998129334813, 1137.9386892688638, 1150.7249755966757, 1143.318186019624, 1131.1999623072043, 1128.77964313508, 1125.0178816865377, 1137.1552951000144, 1139.2972911016425, 1187.0526264747632, 1134.1668737703972, 1132.4708328870393, 1151.6856207322164, 1128.2683850290814, 1131.8453066367106, 1147.269669323706, 1127.5413515439416, 1137.9397043412118, 1127.0289816920379, 1194.7244466082288, 1141.1976998844202, 1219.3154443032297, 1147.021604976539, 1165.2843999695237, 1128.7776613271621, 1131.5688202637964, 1125.6772436818035, 1136.9681350937342, 1129.2473014668883]\n"
     ]
    }
   ],
   "source": [
    "## using OLS to validate the best fitted line \n",
    "\n",
    "# y_hat = beta0 + (beta1 * x)\n",
    "SSATraining_yhatList_OLS = []\n",
    "\n",
    "# find a list of y_hat values, using OLS, for every value of x\n",
    "for (x,y) in list(zip(SSATraining_xList, SSATraining_yList)):\n",
    "    SSATraining_yhatList_OLS.append(find_beta0(SSATraining_xList, SSATraining_yList) + (find_beta1(SSATraining_xList, SSATraining_yList) * x))\n",
    "\n",
    "print(SSATraining_xList)\n",
    "print(SSATraining_yhatList_OLS)\n"
   ]
  },
  {
   "cell_type": "code",
   "execution_count": 144,
   "metadata": {},
   "outputs": [
    {
     "name": "stdout",
     "output_type": "stream",
     "text": [
      "In Gradient Descent:-\n",
      "1. The mean squared error is: 486025.2829337726\n",
      "2. The final value of beta 0 is: 1121.5790755998012\n",
      "3. The final value of beta 1 is: 0.004833717242663583\n",
      "[1436.21, 2240.49, 12815.91, 5092.16, 3186.49, 2064.14, 1044.07, 2093.73, 3384.44, 6029.69, 4497.36, 1990.32, 1489.6, 711.36, 3222.37, 3665.51, 13545.22, 2604.12, 2253.24, 6228.43, 1383.83, 2123.83, 5314.85, 1233.42, 3384.65, 1127.42, 15132.38, 4058.67, 20219.81, 5263.53, 9041.77, 1489.19, 2066.63, 847.77, 3183.65, 1586.35]\n",
      "[1128.5213086408871, 1132.4089707448165, 1183.5275607472258, 1146.193137194203, 1136.9816672563763, 1131.5565447090728, 1126.625814761349, 1131.6995744022831, 1137.9385015845614, 1150.7248921207174, 1143.3180421782668, 1131.1997197022195, 1128.7793808044728, 1125.0175886975424, 1137.155101031043, 1139.297114489957, 1187.0528390694728, 1134.1666553457662, 1132.4706006396605, 1151.6855450855244, 1128.2681185317163, 1131.8450692912875, 1147.2695576869717, 1127.5410791212473, 1137.9395166651825, 1127.0287050935249, 1194.7247217283386, 1141.1975387610826, 1219.3159198401827, 1147.0214913180782, 1165.2844351529995, 1128.7773989804034, 1131.568580665007, 1125.6769560666141, 1136.967939499407, 1129.2470429477005]\n",
      "training constant 1121.5790755998012\n",
      "training slope: 0.004833717242663583\n"
     ]
    }
   ],
   "source": [
    "## using gradient descent\n",
    "\n",
    "# config of y_hat coordinated in gradient descent\n",
    "initialBeta0forGradientDescent = 0\n",
    "initialBeta1forGradientDescent = 1\n",
    "alphaOfBeta0 = 0.00055555555\n",
    "alphaOfBeta1 = 0.00000000009\n",
    "maxIter = 30000\n",
    "\n",
    "# find yhat coordinates for each x, the constant, and the slope for the training dataset using gradient descent method\n",
    "SSATraining_yhatList_GD, SSATrainingConstant, SSATrainingSlope = findYcoordinatesFromGradientDescent(SSATraining_xList, SSATraining_yList, initialBeta0forGradientDescent, initialBeta1forGradientDescent, alphaOfBeta0, alphaOfBeta1, maxIter)\n",
    "print(SSATraining_xList)\n",
    "print(SSATraining_yhatList_GD)\n",
    "print(f\"training constant {SSATrainingConstant}\")\n",
    "print(f\"training slope: {SSATrainingSlope}\")"
   ]
  },
  {
   "cell_type": "code",
   "execution_count": 145,
   "metadata": {},
   "outputs": [],
   "source": [
    "# calculating t-value\n",
    "SSAt_value = calT_value(SSATraining_yhatList_GD, SSATraining_yList, SSATraining_xList, SSATrainingSlope)"
   ]
  },
  {
   "cell_type": "code",
   "execution_count": 146,
   "metadata": {},
   "outputs": [],
   "source": [
    "# append the data relating to region, coefficient, and t-value to a list\n",
    "regions_coefficients_t_value.append(['Sub-Saharan Africa', SSATrainingSlope, SSAt_value])"
   ]
  },
  {
   "cell_type": "code",
   "execution_count": 147,
   "metadata": {},
   "outputs": [
    {
     "name": "stdout",
     "output_type": "stream",
     "text": [
      "As you can see the blue line (GD) is almost superseeding the red line (OLS)\n"
     ]
    },
    {
     "data": {
      "image/png": "[encoded data removed]",
      "text/plain": [
       "<Figure size 640x480 with 1 Axes>"
      ]
     },
     "metadata": {},
     "output_type": "display_data"
    }
   ],
   "source": [
    "## mapping graphs\n",
    "\n",
    "# plotting the scatter plot of randomized points\n",
    "plt.scatter(SSATraining_xList, SSATraining_yList)\n",
    "\n",
    "# obtaining the linear regression curve from OLS\n",
    "plt.plot(SSATraining_xList, SSATraining_yhatList_OLS, color = 'red')\n",
    "\n",
    "# obtaining the linear regression curve from gradient descent\n",
    "plt.plot(SSATraining_xList, SSATraining_yhatList_GD, color = 'blue')\n",
    "print(\"As you can see the blue line (GD) is almost superseeding the red line (OLS)\")\n",
    "# plt.show"
   ]
  },
  {
   "cell_type": "markdown",
   "metadata": {},
   "source": [
    "Testing Dataset - Sub-Saharan Africa"
   ]
  },
  {
   "cell_type": "code",
   "execution_count": 148,
   "metadata": {},
   "outputs": [
    {
     "name": "stdout",
     "output_type": "stream",
     "text": [
      "According to the Gradient Descent methodology, the optimum coefficient is 0.004833717242663583. \n",
      "However, due to extremely small sample size, the coefficient is not accurate. \n",
      "Therefore the line in testing dataset is not a good fit.\n"
     ]
    },
    {
     "data": {
      "image/png": "[encoded data removed]",
      "text/plain": [
       "<Figure size 640x480 with 1 Axes>"
      ]
     },
     "metadata": {},
     "output_type": "display_data"
    }
   ],
   "source": [
    "# create two lists of x and y coordinates from testing dataset\n",
    "# original lists\n",
    "SSATesting_xList, SSATesting_yList = create_xyLists(SSATesting_Dataset)\n",
    "\n",
    "# find yhat coordinates for each x for the testing dataset using the derived slope and constant from gradient descent algorithm\n",
    "SSATesting_yhatList_GD = []\n",
    "for x in SSATesting_xList:\n",
    "    SSATesting_yhatList_GD.append(SSATrainingConstant + (SSATrainingSlope * x))\n",
    "\n",
    "## mapping graphs\n",
    "\n",
    "# plotting the scatter plot of randomized points\n",
    "plt.scatter(SSATesting_xList, SSATesting_yList)\n",
    "\n",
    "# obtaining the linear regression curve from gradient descent\n",
    "plt.plot(SSATesting_xList, SSATesting_yhatList_GD, color = 'blue')\n",
    "\n",
    "print(f\"According to the Gradient Descent methodology, the optimum coefficient is {SSATrainingSlope}. \\n\"\n",
    "      \"However, due to extremely small sample size, the coefficient is not accurate. \\n\"\n",
    "      \"Therefore the line in testing dataset is not a good fit.\")"
   ]
  },
  {
   "cell_type": "markdown",
   "metadata": {},
   "source": [
    "Latin America and Caribbean Region"
   ]
  },
  {
   "cell_type": "code",
   "execution_count": 149,
   "metadata": {},
   "outputs": [
    {
     "name": "stdout",
     "output_type": "stream",
     "text": [
      "[(15329.18, 2331.0), (18327.99, 758.0), (22073.37, 1300.0), (8389.11, 1996.0), (19778.39, 2926.0), (14109.76, 1761.0), (10356.97, 2274.0), (13175.52, 2350.0), (9208.37, 2051.0), (13805.78, 1422.0), (10255.76, 2083.0), (5230.56, 2280.0), (18787.56, 1030.0), (16768.43, 1410.0), (11650.93, 2301.0), (23391.32, 2200.0), (13690.97, 1583.0), (25780.41, 1292.0), (18430.57, 2387.0), (5028.15, 1976.0), (19685.22, 591.0), (13317.32, 1130.0), (11187.34, 1738.0), (22970.55, 1522.0), (7703.12, 1705.0)]\n",
      "[(7679.93, 1146.0), (13358.3, 3240.0), (8295.63, 1784.0), (2970.46, 1440.0), (26606.29, 2928.0), (32437.97, 2054.0), (26701.12, 1427.0)]\n"
     ]
    }
   ],
   "source": [
    "# Region == 'Sub-Saharan Africa'\n",
    "LACR_df = merged_df[merged_df['Region'] == 'Latin America and Caribbean']\n",
    "\n",
    "# create dataset with x and y coordinates\n",
    "LACR_xyDataset = list(zip(LACR_df['GDP'], LACR_df['Precipitation']))\n",
    "\n",
    "# split the dataset into training and testing datasets\n",
    "LACRTraining_Dataset, LACRTesting_Dataset = split_data(LACR_xyDataset, 80)\n",
    "print(LACRTraining_Dataset)\n",
    "print(LACRTesting_Dataset)"
   ]
  },
  {
   "cell_type": "markdown",
   "metadata": {},
   "source": [
    "Training Dataset - Latin America and Caribbean"
   ]
  },
  {
   "cell_type": "code",
   "execution_count": 150,
   "metadata": {},
   "outputs": [
    {
     "name": "stdout",
     "output_type": "stream",
     "text": [
      "[15329.18, 18327.99, 22073.37, 8389.11, 19778.39, 14109.76, 10356.97, 13175.52, 9208.37, 13805.78, 10255.76, 5230.56, 18787.56, 16768.43, 11650.93, 23391.32, 13690.97, 25780.41, 18430.57, 5028.15, 19685.22, 13317.32, 11187.34, 22970.55, 7703.12]\n",
      "[2331.0, 758.0, 1300.0, 1996.0, 2926.0, 1761.0, 2274.0, 2350.0, 2051.0, 1422.0, 2083.0, 2280.0, 1030.0, 1410.0, 2301.0, 2200.0, 1583.0, 1292.0, 2387.0, 1976.0, 591.0, 1130.0, 1738.0, 1522.0, 1705.0]\n"
     ]
    }
   ],
   "source": [
    "# create two lists of x and y coordinates from training dataset\n",
    "# original lists\n",
    "LACRTraining_xList, LACRTraining_yList = create_xyLists(LACRTraining_Dataset)\n",
    "\n",
    "# # normalize SAsia_xList and SAsia_yList to [0, 1] range\n",
    "# # calculations using large values give OverflowError indicating that it exceeded the range of its datatype (int/float)\n",
    "# normalized_SAsia_xList = normalized_list(SAsiaTraining_xList)\n",
    "# normalised_SAsia_yList = normalized_list(SAsiaTraining_yList)\n",
    "\n",
    "print(LACRTraining_xList)\n",
    "print(LACRTraining_yList)"
   ]
  },
  {
   "cell_type": "code",
   "execution_count": 151,
   "metadata": {},
   "outputs": [
    {
     "name": "stdout",
     "output_type": "stream",
     "text": [
      "[15329.18, 18327.99, 22073.37, 8389.11, 19778.39, 14109.76, 10356.97, 13175.52, 9208.37, 13805.78, 10255.76, 5230.56, 18787.56, 16768.43, 11650.93, 23391.32, 13690.97, 25780.41, 18430.57, 5028.15, 19685.22, 13317.32, 11187.34, 22970.55, 7703.12]\n",
      "[1756.531329074244, 1658.49866019731, 1536.0602271661105, 1983.405850732083, 1611.0843248645929, 1796.3948072812366, 1919.075477091818, 1826.9356019869988, 1956.6238124221811, 1806.332072624893, 1922.3840849786245, 2086.6605038382286, 1643.4750762971053, 1709.4814930789234, 1876.7752472606523, 1492.9757516753807, 1810.0852716317527, 1414.8751488071782, 1655.145266293263, 2093.2773927066064, 1614.1301009421918, 1822.300085749975, 1891.930247065461, 1506.730943262493, 2005.8312229707003]\n"
     ]
    }
   ],
   "source": [
    "## using OLS to validate the best fitted line \n",
    "\n",
    "# y_hat = beta0 + (beta1 * x)\n",
    "LACRTraining_yhatList_OLS = []\n",
    "\n",
    "# find a list of y_hat values, using OLS, for every value of x\n",
    "for (x,y) in list(zip(LACRTraining_xList, LACRTraining_yList)):\n",
    "    LACRTraining_yhatList_OLS.append(find_beta0(LACRTraining_xList, LACRTraining_yList) + (find_beta1(LACRTraining_xList, LACRTraining_yList) * x))\n",
    "\n",
    "print(LACRTraining_xList)\n",
    "print(LACRTraining_yhatList_OLS)"
   ]
  },
  {
   "cell_type": "code",
   "execution_count": 152,
   "metadata": {},
   "outputs": [
    {
     "name": "stdout",
     "output_type": "stream",
     "text": [
      "In Gradient Descent:-\n",
      "1. The mean squared error is: 278166.3001214485\n",
      "2. The final value of beta 0 is: 2216.6999606832974\n",
      "3. The final value of beta 1 is: -0.030257201872760573\n",
      "[15329.18, 18327.99, 22073.37, 8389.11, 19778.39, 14109.76, 10356.97, 13175.52, 9208.37, 13805.78, 10255.76, 5230.56, 18787.56, 16768.43, 11650.93, 23391.32, 13690.97, 25780.41, 18430.57, 5028.15, 19685.22, 13317.32, 11187.34, 22970.55, 7703.12]\n",
      "[1752.8818668794133, 1662.1462673313604, 1548.8215485811602, 1962.8689658805029, 1618.2612217351084, 1789.7781039870952, 1903.3270286031723, 1818.045592264703, 1938.0804506742252, 1798.975688212377, 1906.3893600047145, 2058.4378508557106, 1648.2409650666957, 1709.334189084043, 1864.175419667895, 1508.9440693729555, 1802.4495175593886, 1436.6568909507619, 1659.0424835632525, 2064.562211086776, 1621.0802852335935, 1813.7551210391455, 1878.202355884088, 1521.675392204957, 1983.625103793198]\n",
      "training constant 2216.6999606832974\n",
      "training slope: -0.030257201872760573\n"
     ]
    }
   ],
   "source": [
    "## using gradient descent\n",
    "\n",
    "# config of y_hat coordinated in gradient descent\n",
    "initialBeta0forGradientDescent = 0\n",
    "initialBeta1forGradientDescent = 1\n",
    "alphaOfBeta0 = 0.00055555555\n",
    "alphaOfBeta1 = 0.00000000009\n",
    "maxIter = 30000\n",
    "\n",
    "# find yhat coordinates for each x, the constant, and the slope for the training dataset using gradient descent method\n",
    "LACRTraining_yhatList_GD, LACRTrainingConstant, LACRTrainingSlope = findYcoordinatesFromGradientDescent(LACRTraining_xList, LACRTraining_yList, initialBeta0forGradientDescent, initialBeta1forGradientDescent, alphaOfBeta0, alphaOfBeta1, maxIter)\n",
    "print(LACRTraining_xList)\n",
    "print(LACRTraining_yhatList_GD)\n",
    "print(f\"training constant {LACRTrainingConstant}\")\n",
    "print(f\"training slope: {LACRTrainingSlope}\")"
   ]
  },
  {
   "cell_type": "code",
   "execution_count": 153,
   "metadata": {},
   "outputs": [],
   "source": [
    "# calculating t-value\n",
    "LACRt_value = calT_value(LACRTraining_yhatList_GD, LACRTraining_yList, LACRTraining_xList, LACRTrainingSlope)"
   ]
  },
  {
   "cell_type": "code",
   "execution_count": 154,
   "metadata": {},
   "outputs": [],
   "source": [
    "# append the data relating to region, coefficient, and t-value to a list\n",
    "regions_coefficients_t_value.append(['Latin America and Caribbean', LACRTrainingSlope, LACRt_value])"
   ]
  },
  {
   "cell_type": "code",
   "execution_count": 155,
   "metadata": {},
   "outputs": [
    {
     "name": "stdout",
     "output_type": "stream",
     "text": [
      "As you can see the blue line (GD) is almost superseeding the red line (OLS)\n"
     ]
    },
    {
     "data": {
      "image/png": "[encoded data removed]",
      "text/plain": [
       "<Figure size 640x480 with 1 Axes>"
      ]
     },
     "metadata": {},
     "output_type": "display_data"
    }
   ],
   "source": [
    "## mapping graphs\n",
    "\n",
    "# plotting the scatter plot of randomized points\n",
    "plt.scatter(LACRTraining_xList, LACRTraining_yList)\n",
    "\n",
    "# obtaining the linear regression curve from OLS\n",
    "plt.plot(LACRTraining_xList, LACRTraining_yhatList_OLS, color = 'red')\n",
    "\n",
    "# obtaining the linear regression curve from gradient descent\n",
    "plt.plot(LACRTraining_xList, LACRTraining_yhatList_GD, color = 'blue')\n",
    "print(\"As you can see the blue line (GD) is almost superseeding the red line (OLS)\")\n",
    "# plt.show"
   ]
  },
  {
   "cell_type": "markdown",
   "metadata": {},
   "source": [
    "Testing Dataset - Latin America and Caribbean"
   ]
  },
  {
   "cell_type": "code",
   "execution_count": 156,
   "metadata": {},
   "outputs": [
    {
     "name": "stdout",
     "output_type": "stream",
     "text": [
      "According to the Gradient Descent methodology, the optimum coefficient is -0.030257201872760573. \n",
      "However, due to extremely small sample size, the coefficient is not accurate. \n",
      "Therefore, although the direction of the line is correctly predicted, the line in testing dataset is not a good fit.\n"
     ]
    },
    {
     "data": {
      "image/png": "[encoded data removed]",
      "text/plain": [
       "<Figure size 640x480 with 1 Axes>"
      ]
     },
     "metadata": {},
     "output_type": "display_data"
    }
   ],
   "source": [
    "# create two lists of x and y coordinates from testing dataset\n",
    "# original lists\n",
    "LACRTesting_xList, LACRTesting_yList = create_xyLists(LACRTesting_Dataset)\n",
    "\n",
    "# find yhat coordinates for each x for the testing dataset using the derived slope and constant from gradient descent algorithm\n",
    "LACRTesting_yhatList_GD = []\n",
    "for x in LACRTesting_xList:\n",
    "    LACRTesting_yhatList_GD.append(LACRTrainingConstant + (LACRTrainingSlope * x))\n",
    "\n",
    "## mapping graphs\n",
    "\n",
    "# plotting the scatter plot of randomized points\n",
    "plt.scatter(LACRTesting_xList, LACRTesting_yList)\n",
    "\n",
    "# obtaining the linear regression curve from gradient descent\n",
    "plt.plot(LACRTesting_xList, LACRTesting_yhatList_GD, color = 'blue')\n",
    "\n",
    "print(f\"According to the Gradient Descent methodology, the optimum coefficient is {LACRTrainingSlope}. \\n\"\n",
    "      \"However, due to extremely small sample size, the coefficient is not accurate. \\n\"\n",
    "      \"Therefore, although the direction of the line is correctly predicted, the line in testing dataset is not a good fit.\")"
   ]
  },
  {
   "cell_type": "markdown",
   "metadata": {},
   "source": [
    "East Asia and Pacific Region"
   ]
  },
  {
   "cell_type": "code",
   "execution_count": 157,
   "metadata": {},
   "outputs": [
    {
     "name": "stdout",
     "output_type": "stream",
     "text": [
      "[(39989.58, 1668.0), (6062.47, 2880.0), (42052.14, 1732.0), (4947.09, 2091.0), (2848.97, 2000.0), (3741.66, 3142.0), (42396.76, 1274.0), (11515.68, 2702.0), (10966.93, 2592.0), (16865.55, 1622.0), (10450.62, 1821.0), (48747.85, 534.0), (25830.97, 2875.0), (61603.55, 2722.0), (7773.26, 2348.0), (11666.78, 241.0), (4276.18, 1904.0)]\n",
      "[(16296.61, 645.0), (7763.95, 1834.0), (94910.1, 2497.0), (2469.17, 3028.0), (4856.52, 1500.0)]\n"
     ]
    }
   ],
   "source": [
    "# Region == 'East Asia and Pacific'\n",
    "EAP_df = merged_df[merged_df['Region'] == 'East Asia and Pacific']\n",
    "\n",
    "# create dataset with x and y coordinates\n",
    "EAP_xyDataset = list(zip(EAP_df['GDP'], EAP_df['Precipitation']))\n",
    "\n",
    "# split the dataset into training and testing datasets\n",
    "EAPTraining_Dataset, EAPTesting_Dataset = split_data(EAP_xyDataset, 80)\n",
    "print(EAPTraining_Dataset)\n",
    "print(EAPTesting_Dataset)"
   ]
  },
  {
   "cell_type": "markdown",
   "metadata": {},
   "source": [
    "Training Dataset - East Asia and Pacific"
   ]
  },
  {
   "cell_type": "code",
   "execution_count": 158,
   "metadata": {},
   "outputs": [
    {
     "name": "stdout",
     "output_type": "stream",
     "text": [
      "[39989.58, 6062.47, 42052.14, 4947.09, 2848.97, 3741.66, 42396.76, 11515.68, 10966.93, 16865.55, 10450.62, 48747.85, 25830.97, 61603.55, 7773.26, 11666.78, 4276.18]\n",
      "[1668.0, 2880.0, 1732.0, 2091.0, 2000.0, 3142.0, 1274.0, 2702.0, 2592.0, 1622.0, 1821.0, 534.0, 2875.0, 2722.0, 2348.0, 241.0, 1904.0]\n"
     ]
    }
   ],
   "source": [
    "# create two lists of x and y coordinates from training dataset\n",
    "# original lists\n",
    "EAPTraining_xList, EAPTraining_yList = create_xyLists(EAPTraining_Dataset)\n",
    "\n",
    "# # normalize SAsia_xList and SAsia_yList to [0, 1] range\n",
    "# # calculations using large values give OverflowError indicating that it exceeded the range of its datatype (int/float)\n",
    "# normalized_SAsia_xList = normalized_list(SAsiaTraining_xList)\n",
    "# normalised_SAsia_yList = normalized_list(SAsiaTraining_yList)\n",
    "\n",
    "print(EAPTraining_xList)\n",
    "print(EAPTraining_yList)"
   ]
  },
  {
   "cell_type": "code",
   "execution_count": 159,
   "metadata": {},
   "outputs": [
    {
     "name": "stdout",
     "output_type": "stream",
     "text": [
      "[39989.58, 6062.47, 42052.14, 4947.09, 2848.97, 3741.66, 42396.76, 11515.68, 10966.93, 16865.55, 10450.62, 48747.85, 25830.97, 61603.55, 7773.26, 11666.78, 4276.18]\n",
      "[1788.8147393952136, 2175.3728063044346, 1765.3143821150243, 2188.081201940526, 2211.9867220789515, 2201.8156075705483, 1761.3878572498572, 2113.2401249163045, 2119.4924623307334, 2052.2848768737913, 2125.375185484161, 1689.0249276290765, 1950.1348433392736, 1542.5498951030268, 2155.8804394247436, 2111.518524582236, 2195.725403662101]\n"
     ]
    }
   ],
   "source": [
    "## using OLS to validate the best fitted line \n",
    "\n",
    "# y_hat = beta0 + (beta1 * x)\n",
    "EAPTraining_yhatList_OLS = []\n",
    "\n",
    "# find a list of y_hat values, using OLS, for every value of x\n",
    "for (x,y) in list(zip(EAPTraining_xList, EAPTraining_yList)):\n",
    "    EAPTraining_yhatList_OLS.append(find_beta0(EAPTraining_xList, EAPTraining_yList) + (find_beta1(EAPTraining_xList, EAPTraining_yList) * x))\n",
    "\n",
    "print(EAPTraining_xList)\n",
    "print(EAPTraining_yhatList_OLS)"
   ]
  },
  {
   "cell_type": "code",
   "execution_count": 160,
   "metadata": {},
   "outputs": [
    {
     "name": "stdout",
     "output_type": "stream",
     "text": [
      "In Gradient Descent:-\n",
      "1. The mean squared error is: 572774.532238128\n",
      "2. The final value of beta 0 is: 2244.4461040296123\n",
      "3. The final value of beta 1 is: -0.01139374959122997\n",
      "[39989.58, 6062.47, 42052.14, 4947.09, 2848.97, 3741.66, 42396.76, 11515.68, 10966.93, 16865.55, 10450.62, 48747.85, 25830.97, 61603.55, 7773.26, 11666.78, 4276.18]\n",
      "[1788.8148432511541, 2175.3718389452683, 1765.3145510942668, 2188.0801993643345, 2211.985653256686, 2201.8145669340906, 1761.3880371101372, 2113.239329736877, 2119.4916498250645, 2052.284250611244, 2125.3743566765124, 1689.0253080187726, 1950.1345001510388, 1542.5506813987972, 2155.879526082088, 2111.5177341736426, 2195.7243799025864]\n",
      "training constant 2244.4461040296123\n",
      "training slope: -0.01139374959122997\n"
     ]
    }
   ],
   "source": [
    "## using gradient descent\n",
    "\n",
    "# config of y_hat coordinated in gradient descent\n",
    "initialBeta0forGradientDescent = 0\n",
    "initialBeta1forGradientDescent = 1\n",
    "alphaOfBeta0 = 0.00055555555\n",
    "alphaOfBeta1 = 0.00000000009\n",
    "maxIter = 30000\n",
    "\n",
    "# find yhat coordinates for each x, the constant, and the slope for the training dataset using gradient descent method\n",
    "EAPTraining_yhatList_GD, EAPTrainingConstant, EAPTrainingSlope = findYcoordinatesFromGradientDescent(EAPTraining_xList, EAPTraining_yList, initialBeta0forGradientDescent, initialBeta1forGradientDescent, alphaOfBeta0, alphaOfBeta1, maxIter)\n",
    "print(EAPTraining_xList)\n",
    "print(EAPTraining_yhatList_GD)\n",
    "print(f\"training constant {EAPTrainingConstant}\")\n",
    "print(f\"training slope: {EAPTrainingSlope}\")"
   ]
  },
  {
   "cell_type": "code",
   "execution_count": 161,
   "metadata": {},
   "outputs": [],
   "source": [
    "# calculating t-value\n",
    "EAPt_value = calT_value(EAPTraining_yhatList_GD, EAPTraining_yList, EAPTraining_xList, EAPTrainingSlope)"
   ]
  },
  {
   "cell_type": "code",
   "execution_count": 162,
   "metadata": {},
   "outputs": [],
   "source": [
    "# append the data relating to region, coefficient, and t-value to a list\n",
    "regions_coefficients_t_value.append(['East Asia and Pacific', EAPTrainingSlope, EAPt_value])"
   ]
  },
  {
   "cell_type": "code",
   "execution_count": 163,
   "metadata": {},
   "outputs": [
    {
     "name": "stdout",
     "output_type": "stream",
     "text": [
      "As you can see the blue line (GD) is almost superseeding the red line (OLS)\n"
     ]
    },
    {
     "data": {
      "image/png": "[encoded data removed]",
      "text/plain": [
       "<Figure size 640x480 with 1 Axes>"
      ]
     },
     "metadata": {},
     "output_type": "display_data"
    }
   ],
   "source": [
    "## mapping graphs\n",
    "\n",
    "# plotting the scatter plot of randomized points\n",
    "plt.scatter(EAPTraining_xList, EAPTraining_yList)\n",
    "\n",
    "# obtaining the linear regression curve from OLS\n",
    "plt.plot(EAPTraining_xList, EAPTraining_yhatList_OLS, color = 'red')\n",
    "\n",
    "# obtaining the linear regression curve from gradient descent\n",
    "plt.plot(EAPTraining_xList, EAPTraining_yhatList_GD, color = 'blue')\n",
    "print(\"As you can see the blue line (GD) is almost superseeding the red line (OLS)\")\n",
    "# plt.show"
   ]
  },
  {
   "cell_type": "markdown",
   "metadata": {},
   "source": [
    "Testing Dataset - East Asia and Pacific"
   ]
  },
  {
   "cell_type": "code",
   "execution_count": 164,
   "metadata": {},
   "outputs": [
    {
     "name": "stdout",
     "output_type": "stream",
     "text": [
      "According to the Gradient Descent methodology, the optimum coefficient is -0.01139374959122997. \n",
      "However, due to extremely small sample size, the coefficient is not accurate. \n",
      "Therefore the line in testing dataset is not a good fit.\n"
     ]
    },
    {
     "data": {
      "image/png": "[encoded data removed]",
      "text/plain": [
       "<Figure size 640x480 with 1 Axes>"
      ]
     },
     "metadata": {},
     "output_type": "display_data"
    }
   ],
   "source": [
    "\n",
    "# create two lists of x and y coordinates from testing dataset\n",
    "# original lists\n",
    "EAPTesting_xList, EAPTesting_yList = create_xyLists(EAPTesting_Dataset)\n",
    "\n",
    "# find yhat coordinates for each x for the testing dataset using the derived slope and constant from gradient descent algorithm\n",
    "EAPTesting_yhatList_GD = []\n",
    "for x in EAPTesting_xList:\n",
    "    EAPTesting_yhatList_GD.append(EAPTrainingConstant + (EAPTrainingSlope * x))\n",
    "\n",
    "## mapping graphs\n",
    "\n",
    "# plotting the scatter plot of randomized points\n",
    "plt.scatter(EAPTesting_xList, EAPTesting_yList)\n",
    "\n",
    "# obtaining the linear regression curve from gradient descent\n",
    "plt.plot(EAPTesting_xList, EAPTesting_yhatList_GD, color = 'blue')\n",
    "\n",
    "print(f\"According to the Gradient Descent methodology, the optimum coefficient is {EAPTrainingSlope}. \\n\"\n",
    "      \"However, due to extremely small sample size, the coefficient is not accurate. \\n\"\n",
    "      \"Therefore the line in testing dataset is not a good fit.\") "
   ]
  },
  {
   "cell_type": "markdown",
   "metadata": {},
   "source": [
    "North America Region"
   ]
  },
  {
   "cell_type": "code",
   "execution_count": 165,
   "metadata": {},
   "outputs": [
    {
     "name": "stdout",
     "output_type": "stream",
     "text": [
      "[(46181.76, 537.0)]\n",
      "[(60158.91, 715.0)]\n"
     ]
    }
   ],
   "source": [
    "# Region == 'East Asia and Pacific'\n",
    "northAmerica_df = merged_df[merged_df['Region'] == 'North America']\n",
    "\n",
    "# create dataset with x and y coordinates\n",
    "northAmerica_xyDataset = list(zip(northAmerica_df['GDP'], northAmerica_df['Precipitation']))\n",
    "\n",
    "# split the dataset into training and testing datasets\n",
    "northAmericaTraining_Dataset, northAmericaTesting_Dataset = split_data(northAmerica_xyDataset, 80)\n",
    "print(northAmericaTraining_Dataset)\n",
    "print(northAmericaTesting_Dataset)\n"
   ]
  },
  {
   "cell_type": "code",
   "execution_count": 166,
   "metadata": {},
   "outputs": [
    {
     "name": "stdout",
     "output_type": "stream",
     "text": [
      "[46181.76]\n",
      "[537.0]\n"
     ]
    }
   ],
   "source": [
    "# create two lists of x and y coordinates from training dataset\n",
    "# original lists\n",
    "northAmericaTraining_xList, northAmericaTraining_yList = create_xyLists(northAmericaTraining_Dataset)\n",
    "\n",
    "# # normalize SAsia_xList and SAsia_yList to [0, 1] range\n",
    "# # calculations using large values give OverflowError indicating that it exceeded the range of its datatype (int/float)\n",
    "# normalized_SAsia_xList = normalized_list(SAsiaTraining_xList)\n",
    "# normalised_SAsia_yList = normalized_list(SAsiaTraining_yList)\n",
    "\n",
    "print(northAmericaTraining_xList)\n",
    "print(northAmericaTraining_yList)"
   ]
  },
  {
   "cell_type": "code",
   "execution_count": 167,
   "metadata": {},
   "outputs": [],
   "source": [
    "# ## using OLS to validate the best fitted line \n",
    "\n",
    "# # y_hat = beta0 + (beta1 * x)\n",
    "# northAmericaTraining_yhatList_OLS = []\n",
    "\n",
    "# # find a list of y_hat values, using OLS, for every value of x\n",
    "# for (x,y) in list(zip(northAmericaTraining_xList, northAmericaTraining_yList)):\n",
    "#     northAmericaTraining_yhatList_OLS.append(find_beta0(northAmericaTraining_xList, northAmericaTraining_yList) + (find_beta1(northAmericaTraining_xList, northAmericaTraining_yList) * x))\n",
    "\n",
    "# print(northAmericaTraining_xList)\n",
    "# print(northAmericaTraining_yhatList_OLS)\n",
    "\n",
    "# ## using gradient descent\n",
    "\n",
    "# # config of y_hat coordinated in gradient descent\n",
    "# initialBeta0forGradientDescent = 0\n",
    "# initialBeta1forGradientDescent = 1\n",
    "# alphaOfBeta0 = 0.00055555555\n",
    "# alphaOfBeta1 = 0.00000000009\n",
    "# maxIter = 30000\n",
    "\n",
    "# # find yhat coordinates for each x, the constant, and the slope for the training dataset using gradient descent method\n",
    "# northAmericaTraining_yhatList_GD, northAmericaTrainingConstant, northAmericaTrainingSlope = findYcoordinatesFromGradientDescent(northAmericaTraining_xList, northAmericaTraining_yList, initialBeta0forGradientDescent, initialBeta1forGradientDescent, alphaOfBeta0, alphaOfBeta1, maxIter)\n",
    "# print(northAmericaTraining_xList)\n",
    "# print(northAmericaTraining_yhatList_GD)\n",
    "# print(f\"training constant {northAmericaTrainingConstant}\")\n",
    "# print(f\"training slope: {northAmericaTrainingSlope}\")"
   ]
  },
  {
   "cell_type": "code",
   "execution_count": 168,
   "metadata": {},
   "outputs": [],
   "source": [
    "# ## mapping graphs\n",
    "\n",
    "# # plotting the scatter plot of randomized points\n",
    "# plt.scatter(northAmericaTraining_xList, northAmericaTraining_yList)\n",
    "\n",
    "# # obtaining the linear regression curve from OLS\n",
    "# plt.plot(northAmericaTraining_xList, northAmericaTraining_yhatList_OLS, color = 'red')\n",
    "\n",
    "# # obtaining the linear regression curve from gradient descent\n",
    "# plt.plot(northAmericaTraining_xList, northAmericaTraining_yhatList_GD, color = 'blue')\n",
    "# print(\"As you can see the blue line (GD) is almost superseeding the red line (OLS)\")\n",
    "# # plt.show"
   ]
  },
  {
   "cell_type": "markdown",
   "metadata": {},
   "source": [
    "Testing Dataset - North America"
   ]
  },
  {
   "cell_type": "code",
   "execution_count": 169,
   "metadata": {},
   "outputs": [],
   "source": [
    "# # create two lists of x and y coordinates from testing dataset\n",
    "# # original lists\n",
    "# northAmericaTesting_xList, northAmericaTesting_yList = create_xyLists(northAmericaTesting_Dataset)\n",
    "\n",
    "# # find yhat coordinates for each x for the testing dataset using the derived slope and constant from gradient descent algorithm\n",
    "# northAmericaTesting_yhatList_GD = []\n",
    "# for x in northAmericaTesting_xList:\n",
    "#     northAmericaTesting_yhatList_GD.append(northAmericaTrainingConstant + (northAmericaTrainingSlope * x))\n",
    "\n",
    "# ## mapping graphs\n",
    "\n",
    "# # plotting the scatter plot of randomized points\n",
    "# plt.scatter(northAmericaTesting_xList, northAmericaTesting_yList)\n",
    "\n",
    "# # obtaining the linear regression curve from gradient descent\n",
    "# plt.plot(northAmericaTesting_xList, northAmericaTesting_yhatList_GD, color = 'blue')"
   ]
  },
  {
   "cell_type": "code",
   "execution_count": 170,
   "metadata": {},
   "outputs": [
    {
     "name": "stdout",
     "output_type": "stream",
     "text": [
      "[['South Asia', 0.0724559234491282, 0.7523861619014942], ['Europe and Central Asia', 0.0070419925358448975, 2.7102383663759855], ['Middle East and North Africa', -0.0016437902360596976, -0.7793653265889792], ['Sub-Saharan Africa', 0.004833717242663583, 0.17791820347135928], ['Latin America and Caribbean', -0.030257201872760573, -1.545602941604653], ['East Asia and Pacific', -0.01139374959122997, -1.0649222602728723]]\n"
     ]
    }
   ],
   "source": [
    "# print(regions_coefficients_t_value)"
   ]
  },
  {
   "cell_type": "code",
   "execution_count": 174,
   "metadata": {},
   "outputs": [
    {
     "name": "stdout",
     "output_type": "stream",
     "text": [
      "Region                          Coefficient    t-statistic\n",
      "----------------------------  -------------  -------------\n",
      "South Asia                       0.0724559        0.752386\n",
      "Europe and Central Asia          0.00704199       2.71024\n",
      "Middle East and North Africa    -0.00164379      -0.779365\n",
      "Sub-Saharan Africa               0.00483372       0.177918\n",
      "Latin America and Caribbean     -0.0302572       -1.5456\n",
      "East Asia and Pacific           -0.0113937       -1.06492\n"
     ]
    }
   ],
   "source": [
    "# define the headers of the table\n",
    "headers = ['Region', 'Coefficient', 't-statistic']\n",
    "\n",
    "# create the table using regions_coefficients_t_value list\n",
    "print(tabulate(regions_coefficients_t_value, headers=headers))"
   ]
  }
 ],
 "metadata": {
  "kernelspec": {
   "display_name": "Python 3",
   "language": "python",
   "name": "python3"
  },
  "language_info": {
   "codemirror_mode": {
    "name": "ipython",
    "version": 3
   },
   "file_extension": ".py",
   "mimetype": "text/x-python",
   "name": "python",
   "nbconvert_exporter": "python",
   "pygments_lexer": "ipython3",
   "version": "3.11.3"
  },
  "orig_nbformat": 4
 },
 "nbformat": 4,
 "nbformat_minor": 2
}
